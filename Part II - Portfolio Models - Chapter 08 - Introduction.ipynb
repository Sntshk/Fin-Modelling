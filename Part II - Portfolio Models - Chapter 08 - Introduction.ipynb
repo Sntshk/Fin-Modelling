{
 "cells": [
  {
   "cell_type": "markdown",
   "metadata": {},
   "source": [
    "# Simon Benninga's Financial Modeling, 4th edition\n",
    "## Part II: Portfolio Models\n",
    "### Chapter 8: Portfolio Models - Introduction\n",
    "#### 8.2: Computing Returns for Apple (AAPL) and Google (GOOG)"
   ]
  },
  {
   "cell_type": "code",
   "execution_count": 138,
   "metadata": {},
   "outputs": [],
   "source": [
    "#import libraries pandas and numpy\n",
    "import pandas as pd\n",
    "import numpy as np\n",
    "import matplotlib.pyplot as plt"
   ]
  },
  {
   "cell_type": "code",
   "execution_count": 139,
   "metadata": {
    "collapsed": true
   },
   "outputs": [],
   "source": [
    "#import csv file into a DataFrame\n",
    "df_prices = pd.read_csv(\"Pages_198_199.csv\")"
   ]
  },
  {
   "cell_type": "code",
   "execution_count": 140,
   "metadata": {},
   "outputs": [
    {
     "data": {
      "text/html": [
       "<div>\n",
       "<style>\n",
       "    .dataframe thead tr:only-child th {\n",
       "        text-align: right;\n",
       "    }\n",
       "\n",
       "    .dataframe thead th {\n",
       "        text-align: left;\n",
       "    }\n",
       "\n",
       "    .dataframe tbody tr th {\n",
       "        vertical-align: top;\n",
       "    }\n",
       "</style>\n",
       "<table border=\"1\" class=\"dataframe\">\n",
       "  <thead>\n",
       "    <tr style=\"text-align: right;\">\n",
       "      <th></th>\n",
       "      <th>Date</th>\n",
       "      <th>AAPL</th>\n",
       "      <th>Google</th>\n",
       "    </tr>\n",
       "  </thead>\n",
       "  <tbody>\n",
       "    <tr>\n",
       "      <th>0</th>\n",
       "      <td>1-Jun-07</td>\n",
       "      <td>122.04</td>\n",
       "      <td>580.11</td>\n",
       "    </tr>\n",
       "    <tr>\n",
       "      <th>1</th>\n",
       "      <td>2-Jul-07</td>\n",
       "      <td>131.76</td>\n",
       "      <td>645.90</td>\n",
       "    </tr>\n",
       "    <tr>\n",
       "      <th>2</th>\n",
       "      <td>1-Aug-07</td>\n",
       "      <td>138.48</td>\n",
       "      <td>599.39</td>\n",
       "    </tr>\n",
       "    <tr>\n",
       "      <th>3</th>\n",
       "      <td>4-Sep-07</td>\n",
       "      <td>153.47</td>\n",
       "      <td>592.64</td>\n",
       "    </tr>\n",
       "    <tr>\n",
       "      <th>4</th>\n",
       "      <td>1-Oct-07</td>\n",
       "      <td>189.95</td>\n",
       "      <td>515.04</td>\n",
       "    </tr>\n",
       "  </tbody>\n",
       "</table>\n",
       "</div>"
      ],
      "text/plain": [
       "       Date    AAPL  Google\n",
       "0  1-Jun-07  122.04  580.11\n",
       "1  2-Jul-07  131.76  645.90\n",
       "2  1-Aug-07  138.48  599.39\n",
       "3  4-Sep-07  153.47  592.64\n",
       "4  1-Oct-07  189.95  515.04"
      ]
     },
     "execution_count": 140,
     "metadata": {},
     "output_type": "execute_result"
    }
   ],
   "source": [
    "#print head\n",
    "df_prices.head()"
   ]
  },
  {
   "cell_type": "code",
   "execution_count": 141,
   "metadata": {
    "collapsed": true
   },
   "outputs": [],
   "source": [
    "#add daily returns columns\n",
    "df_prices['Return_AAPL'] = np.log(df_prices['AAPL'] / df_prices['AAPL'].shift(1))\n",
    "df_prices['Return_Google'] = np.log(df_prices['Google'] / df_prices['Google'].shift(1))"
   ]
  },
  {
   "cell_type": "markdown",
   "metadata": {},
   "source": [
    "$$r_t = \\ln\\left(\\frac{P_t}{P_{t-1}}\\right)$$"
   ]
  },
  {
   "cell_type": "code",
   "execution_count": 142,
   "metadata": {},
   "outputs": [
    {
     "data": {
      "text/html": [
       "<div>\n",
       "<style>\n",
       "    .dataframe thead tr:only-child th {\n",
       "        text-align: right;\n",
       "    }\n",
       "\n",
       "    .dataframe thead th {\n",
       "        text-align: left;\n",
       "    }\n",
       "\n",
       "    .dataframe tbody tr th {\n",
       "        vertical-align: top;\n",
       "    }\n",
       "</style>\n",
       "<table border=\"1\" class=\"dataframe\">\n",
       "  <thead>\n",
       "    <tr style=\"text-align: right;\">\n",
       "      <th></th>\n",
       "      <th>Date</th>\n",
       "      <th>AAPL</th>\n",
       "      <th>Google</th>\n",
       "      <th>Return_AAPL</th>\n",
       "      <th>Return_Google</th>\n",
       "    </tr>\n",
       "  </thead>\n",
       "  <tbody>\n",
       "    <tr>\n",
       "      <th>0</th>\n",
       "      <td>1-Jun-07</td>\n",
       "      <td>122.04</td>\n",
       "      <td>580.11</td>\n",
       "      <td>NaN</td>\n",
       "      <td>NaN</td>\n",
       "    </tr>\n",
       "    <tr>\n",
       "      <th>1</th>\n",
       "      <td>2-Jul-07</td>\n",
       "      <td>131.76</td>\n",
       "      <td>645.90</td>\n",
       "      <td>0.076633</td>\n",
       "      <td>0.107427</td>\n",
       "    </tr>\n",
       "    <tr>\n",
       "      <th>2</th>\n",
       "      <td>1-Aug-07</td>\n",
       "      <td>138.48</td>\n",
       "      <td>599.39</td>\n",
       "      <td>0.049744</td>\n",
       "      <td>-0.074732</td>\n",
       "    </tr>\n",
       "    <tr>\n",
       "      <th>3</th>\n",
       "      <td>4-Sep-07</td>\n",
       "      <td>153.47</td>\n",
       "      <td>592.64</td>\n",
       "      <td>0.102779</td>\n",
       "      <td>-0.011325</td>\n",
       "    </tr>\n",
       "    <tr>\n",
       "      <th>4</th>\n",
       "      <td>1-Oct-07</td>\n",
       "      <td>189.95</td>\n",
       "      <td>515.04</td>\n",
       "      <td>0.213256</td>\n",
       "      <td>-0.140343</td>\n",
       "    </tr>\n",
       "  </tbody>\n",
       "</table>\n",
       "</div>"
      ],
      "text/plain": [
       "       Date    AAPL  Google  Return_AAPL  Return_Google\n",
       "0  1-Jun-07  122.04  580.11          NaN            NaN\n",
       "1  2-Jul-07  131.76  645.90     0.076633       0.107427\n",
       "2  1-Aug-07  138.48  599.39     0.049744      -0.074732\n",
       "3  4-Sep-07  153.47  592.64     0.102779      -0.011325\n",
       "4  1-Oct-07  189.95  515.04     0.213256      -0.140343"
      ]
     },
     "execution_count": 142,
     "metadata": {},
     "output_type": "execute_result"
    }
   ],
   "source": [
    "#print head\n",
    "df_prices.head()"
   ]
  },
  {
   "cell_type": "code",
   "execution_count": 143,
   "metadata": {},
   "outputs": [
    {
     "name": "stdout",
     "output_type": "stream",
     "text": [
      "Monthly variance of Apple: 1.25%\n",
      "Monthly variance of Google: 1.02%\n"
     ]
    }
   ],
   "source": [
    "#variance\n",
    "print(\"Monthly variance of Apple: {:.2%}\".format(df_prices['Return_AAPL'].var()))\n",
    "print(\"Monthly variance of Google: {:.2%}\".format(df_prices['Return_Google'].var()))"
   ]
  },
  {
   "cell_type": "markdown",
   "metadata": {},
   "source": [
    "$$Var.s = \\frac{1}{N-1}\\sum_{i=1}^{N}\\left({r_i-\\bar r}\\right)^2$$"
   ]
  },
  {
   "cell_type": "code",
   "execution_count": 144,
   "metadata": {},
   "outputs": [
    {
     "data": {
      "text/plain": [
       "count    60.000000\n",
       "mean      0.026093\n",
       "std       0.111704\n",
       "min      -0.399818\n",
       "25%      -0.017454\n",
       "50%       0.043856\n",
       "75%       0.086850\n",
       "max       0.213256\n",
       "Name: Return_AAPL, dtype: float64"
      ]
     },
     "execution_count": 144,
     "metadata": {},
     "output_type": "execute_result"
    }
   ],
   "source": [
    "#statistics of Apple returns\n",
    "df_prices['Return_AAPL'].describe()"
   ]
  },
  {
   "cell_type": "code",
   "execution_count": 145,
   "metadata": {},
   "outputs": [
    {
     "data": {
      "text/plain": [
       "count    60.000000\n",
       "mean     -0.002427\n",
       "std       0.100872\n",
       "min      -0.265292\n",
       "25%      -0.067792\n",
       "50%      -0.010548\n",
       "75%       0.075572\n",
       "max       0.204289\n",
       "Name: Return_Google, dtype: float64"
      ]
     },
     "execution_count": 145,
     "metadata": {},
     "output_type": "execute_result"
    }
   ],
   "source": [
    "#statistics of Google returns\n",
    "df_prices['Return_Google'].describe()"
   ]
  },
  {
   "cell_type": "code",
   "execution_count": 146,
   "metadata": {},
   "outputs": [
    {
     "data": {
      "text/plain": [
       "0.0019891262645754392"
      ]
     },
     "execution_count": 146,
     "metadata": {},
     "output_type": "execute_result"
    }
   ],
   "source": [
    "#sample covariance\n",
    "cov_portfolio = df_prices['Return_Google'].cov(df_prices['Return_AAPL'])\n",
    "cov_portfolio"
   ]
  },
  {
   "cell_type": "code",
   "execution_count": 147,
   "metadata": {},
   "outputs": [
    {
     "data": {
      "text/plain": [
       "0.17653230426640204"
      ]
     },
     "execution_count": 147,
     "metadata": {},
     "output_type": "execute_result"
    }
   ],
   "source": [
    "#correlation coefficient\n",
    "df_prices['Return_Google'].corr(df_prices['Return_AAPL'])"
   ]
  },
  {
   "cell_type": "markdown",
   "metadata": {},
   "source": [
    "$$\\rho _{AAPL,GOOG} = \\frac{Cov(r_{AAPL},r_{GOOG})}{\\sigma_{AAPL}\\sigma_{GOOG}}$$"
   ]
  },
  {
   "cell_type": "code",
   "execution_count": 148,
   "metadata": {
    "collapsed": true
   },
   "outputs": [],
   "source": [
    "#select x, y without NaN\n",
    "%matplotlib inline\n",
    "x = df_prices['Return_AAPL'][1:]\n",
    "y = df_prices['Return_Google'][1:]"
   ]
  },
  {
   "cell_type": "code",
   "execution_count": 149,
   "metadata": {},
   "outputs": [
    {
     "data": {
      "image/png": "[encoded data removed]",
      "text/plain": [
       "<matplotlib.figure.Figure at 0x1a13929080>"
      ]
     },
     "metadata": {},
     "output_type": "display_data"
    }
   ],
   "source": [
    "#scatter plot with linear regression\n",
    "from sklearn.linear_model import LinearRegression\n",
    "model = LinearRegression(fit_intercept=True)\n",
    "\n",
    "model.fit(x[:, np.newaxis], y)\n",
    "\n",
    "xfit = np.linspace(-0.399818, 0.204289)\n",
    "yfit = model.predict(xfit[:, np.newaxis])\n",
    "\n",
    "plt.scatter(x, y, marker=\"d\")\n",
    "plt.title('Graphing GOOG (y-axis) against AAPL (x-axis)')\n",
    "plt.plot(xfit, yfit)\n",
    "plt.show()"
   ]
  },
  {
   "cell_type": "code",
   "execution_count": 150,
   "metadata": {},
   "outputs": [
    {
     "name": "stdout",
     "output_type": "stream",
     "text": [
      "Model slope: 0.1594\n",
      "Model intercept: -0.0066\n"
     ]
    }
   ],
   "source": [
    "#Print equation\n",
    "print(\"Model slope: {:.4f}\".format(model.coef_[0]))\n",
    "print(\"Model intercept: {:.4f}\".format(model.intercept_))"
   ]
  },
  {
   "cell_type": "code",
   "execution_count": 151,
   "metadata": {},
   "outputs": [
    {
     "data": {
      "text/plain": [
       "0.11170358406233492"
      ]
     },
     "execution_count": 151,
     "metadata": {},
     "output_type": "execute_result"
    }
   ],
   "source": [
    "std_AAPL = df_prices['Return_AAPL'].std()\n",
    "std_AAPL"
   ]
  },
  {
   "cell_type": "code",
   "execution_count": 152,
   "metadata": {},
   "outputs": [
    {
     "data": {
      "text/plain": [
       "0.012477690692371124"
      ]
     },
     "execution_count": 152,
     "metadata": {},
     "output_type": "execute_result"
    }
   ],
   "source": [
    "var_AAPL = df_prices['Return_AAPL'].var()\n",
    "var_AAPL"
   ]
  },
  {
   "cell_type": "code",
   "execution_count": 153,
   "metadata": {},
   "outputs": [
    {
     "data": {
      "text/plain": [
       "0.026092535382995975"
      ]
     },
     "execution_count": 153,
     "metadata": {},
     "output_type": "execute_result"
    }
   ],
   "source": [
    "mean_AAPL = df_prices['Return_AAPL'].mean()\n",
    "mean_AAPL"
   ]
  },
  {
   "cell_type": "code",
   "execution_count": 154,
   "metadata": {},
   "outputs": [
    {
     "data": {
      "text/plain": [
       "0.10087209806699204"
      ]
     },
     "execution_count": 154,
     "metadata": {},
     "output_type": "execute_result"
    }
   ],
   "source": [
    "std_GOOG = df_prices['Return_Google'].std()\n",
    "std_GOOG"
   ]
  },
  {
   "cell_type": "code",
   "execution_count": 155,
   "metadata": {},
   "outputs": [
    {
     "data": {
      "text/plain": [
       "0.01017518016843686"
      ]
     },
     "execution_count": 155,
     "metadata": {},
     "output_type": "execute_result"
    }
   ],
   "source": [
    "var_GOOG = df_prices['Return_Google'].var()\n",
    "var_GOOG"
   ]
  },
  {
   "cell_type": "code",
   "execution_count": 156,
   "metadata": {},
   "outputs": [
    {
     "data": {
      "text/plain": [
       "-0.002426902222143673"
      ]
     },
     "execution_count": 156,
     "metadata": {},
     "output_type": "execute_result"
    }
   ],
   "source": [
    "mean_GOOG = df_prices['Return_Google'].mean()\n",
    "mean_GOOG"
   ]
  },
  {
   "cell_type": "code",
   "execution_count": 157,
   "metadata": {
    "collapsed": true
   },
   "outputs": [],
   "source": [
    "df_portfolio = pd.DataFrame(columns=['Proportion of AAPL', 'Portfolio standard deviation', 'Portfolio mean return'])"
   ]
  },
  {
   "cell_type": "code",
   "execution_count": 158,
   "metadata": {},
   "outputs": [],
   "source": [
    "df_portfolio = df_portfolio.iloc[0:0]\n",
    "for i in np.arange(-0.5, 1.6, 0.1):\n",
    "    df_portfolio = df_portfolio.append({'Proportion of AAPL':round(i,1)}, ignore_index=True)\n",
    "    p = df_portfolio['Proportion of AAPL']\n",
    "    df_portfolio['Portfolio standard deviation'\n",
    "                ] = (p ** 2 * var_AAPL + (1 - p) ** 2 * var_GOOG + 2 * p * (1 - p) * cov_portfolio).apply(np.sqrt) \n",
    "    df_portfolio['Portfolio mean return'] = p * mean_AAPL + (1 - p) * mean_GOOG"
   ]
  },
  {
   "cell_type": "code",
   "execution_count": 159,
   "metadata": {},
   "outputs": [
    {
     "data": {
      "text/html": [
       "<div>\n",
       "<style>\n",
       "    .dataframe thead tr:only-child th {\n",
       "        text-align: right;\n",
       "    }\n",
       "\n",
       "    .dataframe thead th {\n",
       "        text-align: left;\n",
       "    }\n",
       "\n",
       "    .dataframe tbody tr th {\n",
       "        vertical-align: top;\n",
       "    }\n",
       "</style>\n",
       "<table border=\"1\" class=\"dataframe\">\n",
       "  <thead>\n",
       "    <tr style=\"text-align: right;\">\n",
       "      <th></th>\n",
       "      <th>Proportion of AAPL</th>\n",
       "      <th>Portfolio standard deviation</th>\n",
       "      <th>Portfolio mean return</th>\n",
       "    </tr>\n",
       "  </thead>\n",
       "  <tbody>\n",
       "    <tr>\n",
       "      <th>0</th>\n",
       "      <td>-0.5</td>\n",
       "      <td>0.151756</td>\n",
       "      <td>-0.016687</td>\n",
       "    </tr>\n",
       "    <tr>\n",
       "      <th>1</th>\n",
       "      <td>-0.4</td>\n",
       "      <td>0.140399</td>\n",
       "      <td>-0.013835</td>\n",
       "    </tr>\n",
       "    <tr>\n",
       "      <th>2</th>\n",
       "      <td>-0.3</td>\n",
       "      <td>0.129489</td>\n",
       "      <td>-0.010983</td>\n",
       "    </tr>\n",
       "    <tr>\n",
       "      <th>3</th>\n",
       "      <td>-0.2</td>\n",
       "      <td>0.119149</td>\n",
       "      <td>-0.008131</td>\n",
       "    </tr>\n",
       "    <tr>\n",
       "      <th>4</th>\n",
       "      <td>-0.1</td>\n",
       "      <td>0.109541</td>\n",
       "      <td>-0.005279</td>\n",
       "    </tr>\n",
       "  </tbody>\n",
       "</table>\n",
       "</div>"
      ],
      "text/plain": [
       "   Proportion of AAPL  Portfolio standard deviation  Portfolio mean return\n",
       "0                -0.5                      0.151756              -0.016687\n",
       "1                -0.4                      0.140399              -0.013835\n",
       "2                -0.3                      0.129489              -0.010983\n",
       "3                -0.2                      0.119149              -0.008131\n",
       "4                -0.1                      0.109541              -0.005279"
      ]
     },
     "execution_count": 159,
     "metadata": {},
     "output_type": "execute_result"
    }
   ],
   "source": [
    "df_portfolio.head()"
   ]
  },
  {
   "cell_type": "code",
   "execution_count": 160,
   "metadata": {},
   "outputs": [
    {
     "data": {
      "image/png": "[encoded data removed]",
      "text/plain": [
       "<matplotlib.figure.Figure at 0x1a13ef09b0>"
      ]
     },
     "metadata": {},
     "output_type": "display_data"
    }
   ],
   "source": [
    "plt.scatter(df_portfolio['Portfolio standard deviation'], df_portfolio['Portfolio mean return'])\n",
    "plt.plot(df_portfolio['Portfolio standard deviation'], df_portfolio['Portfolio mean return'])\n",
    "plt.xlabel(\"$\\sigma_P$\", size=20)\n",
    "plt.show()"
   ]
  },
  {
   "cell_type": "markdown",
   "metadata": {},
   "source": [
    "#### 8.4: Portfolio Mean and Variance—Case of N Assets"
   ]
  },
  {
   "cell_type": "code",
   "execution_count": 161,
   "metadata": {
    "collapsed": true
   },
   "outputs": [],
   "source": [
    "var_cov_matrix = np.array([[0.10, 0.01, 0.03, 0.05],\n",
    "                          [0.01, 0.30, 0.06, -0.04],\n",
    "                          [0.03, 0.06, 0.40, 0.02],\n",
    "                          [0.05, -0.04, 0.02, 0.50]])\n",
    "portfolio_x = np.array([0.20, 0.30, 0.40, 0.10])\n",
    "portfolio_y = np.array([0.20, 0.10, 0.10, 0.60])\n",
    "mean_returns = np.array([[0.06],\n",
    "                         [0.08],\n",
    "                         [0.10],\n",
    "                         [0.15]])"
   ]
  },
  {
   "cell_type": "code",
   "execution_count": 162,
   "metadata": {},
   "outputs": [
    {
     "data": {
      "text/plain": [
       "0.12160000000000001"
      ]
     },
     "execution_count": 162,
     "metadata": {},
     "output_type": "execute_result"
    }
   ],
   "source": [
    "#variance portfolio x\n",
    "var_x = np.dot(np.dot(portfolio_x, var_cov_matrix), np.transpose(portfolio_x))\n",
    "var_x"
   ]
  },
  {
   "cell_type": "code",
   "execution_count": 163,
   "metadata": {},
   "outputs": [
    {
     "data": {
      "text/plain": [
       "array([ 0.091])"
      ]
     },
     "execution_count": 163,
     "metadata": {},
     "output_type": "execute_result"
    }
   ],
   "source": [
    "#mean portfolio x\n",
    "mean_x = np.dot(portfolio_x, mean_returns)\n",
    "mean_x"
   ]
  },
  {
   "cell_type": "code",
   "execution_count": 164,
   "metadata": {},
   "outputs": [
    {
     "data": {
      "text/plain": [
       "0.071400000000000005"
      ]
     },
     "execution_count": 164,
     "metadata": {},
     "output_type": "execute_result"
    }
   ],
   "source": [
    "#covariance portfolio x with portfolio y\n",
    "cov_xy = np.dot(np.dot(portfolio_x, var_cov_matrix), np.transpose(portfolio_y))\n",
    "cov_xy"
   ]
  },
  {
   "cell_type": "code",
   "execution_count": 165,
   "metadata": {},
   "outputs": [
    {
     "data": {
      "text/plain": [
       "array([ 0.12])"
      ]
     },
     "execution_count": 165,
     "metadata": {},
     "output_type": "execute_result"
    }
   ],
   "source": [
    "#mean portfolio y\n",
    "mean_y = np.dot(portfolio_y, mean_returns)\n",
    "mean_y"
   ]
  },
  {
   "cell_type": "code",
   "execution_count": 166,
   "metadata": {},
   "outputs": [
    {
     "data": {
      "text/plain": [
       "0.2034"
      ]
     },
     "execution_count": 166,
     "metadata": {},
     "output_type": "execute_result"
    }
   ],
   "source": [
    "#variance portfolio y\n",
    "var_y = np.dot(np.dot(portfolio_y, var_cov_matrix), np.transpose(portfolio_y))\n",
    "var_y"
   ]
  },
  {
   "cell_type": "code",
   "execution_count": 167,
   "metadata": {},
   "outputs": [
    {
     "data": {
      "text/plain": [
       "0.45400010156574272"
      ]
     },
     "execution_count": 167,
     "metadata": {},
     "output_type": "execute_result"
    }
   ],
   "source": [
    "#correlation x, y\n",
    "correl_xy = cov_xy / np.sqrt(var_x * var_y)\n",
    "correl_xy"
   ]
  },
  {
   "cell_type": "code",
   "execution_count": 168,
   "metadata": {
    "collapsed": true
   },
   "outputs": [],
   "source": [
    "#x proportion\n",
    "p_x = 0.30"
   ]
  },
  {
   "cell_type": "code",
   "execution_count": 169,
   "metadata": {},
   "outputs": [
    {
     "data": {
      "text/plain": [
       "array([ 0.1113])"
      ]
     },
     "execution_count": 169,
     "metadata": {},
     "output_type": "execute_result"
    }
   ],
   "source": [
    "#Mean portfolio return\n",
    "mean_portfolio_return = p_x * mean_x + (1 - p_x) * mean_y\n",
    "mean_portfolio_return"
   ]
  },
  {
   "cell_type": "code",
   "execution_count": 170,
   "metadata": {},
   "outputs": [
    {
     "data": {
      "text/plain": [
       "0.140598"
      ]
     },
     "execution_count": 170,
     "metadata": {},
     "output_type": "execute_result"
    }
   ],
   "source": [
    "#Portfolio variance\n",
    "var_portfolio = p_x ** 2 * var_x + (1 - p_x) ** 2 * var_y + 2 * p_x * (1 - p_x) * cov_xy\n",
    "var_portfolio"
   ]
  },
  {
   "cell_type": "code",
   "execution_count": 171,
   "metadata": {},
   "outputs": [
    {
     "data": {
      "text/plain": [
       "0.37496399827183408"
      ]
     },
     "execution_count": 171,
     "metadata": {},
     "output_type": "execute_result"
    }
   ],
   "source": [
    "#Portfolio standard deviation\n",
    "np.sqrt(var_portfolio)"
   ]
  },
  {
   "cell_type": "code",
   "execution_count": 172,
   "metadata": {
    "collapsed": true
   },
   "outputs": [],
   "source": [
    "df_portfolio = pd.DataFrame(columns=['Proportion of x', 'Standard deviation', 'Mean'])"
   ]
  },
  {
   "cell_type": "code",
   "execution_count": 173,
   "metadata": {
    "collapsed": true
   },
   "outputs": [],
   "source": [
    "df_portfolio = df_portfolio.iloc[0:0]\n",
    "for i in np.arange(-0.5, 1.5, 0.1):\n",
    "    df_portfolio = df_portfolio.append({'Proportion of x':round(i,1)}, ignore_index=True)\n",
    "    p = df_portfolio['Proportion of x']\n",
    "    df_portfolio['Standard deviation'\n",
    "                ] = (p ** 2 * var_x + (1 - p) ** 2 * var_y + 2 * p * (1 - p) * cov_xy).apply(np.sqrt) \n",
    "    df_portfolio['Mean'] = p * mean_x + (1 - p) * mean_y"
   ]
  },
  {
   "cell_type": "code",
   "execution_count": 174,
   "metadata": {},
   "outputs": [
    {
     "data": {
      "text/html": [
       "<div>\n",
       "<style>\n",
       "    .dataframe thead tr:only-child th {\n",
       "        text-align: right;\n",
       "    }\n",
       "\n",
       "    .dataframe thead th {\n",
       "        text-align: left;\n",
       "    }\n",
       "\n",
       "    .dataframe tbody tr th {\n",
       "        vertical-align: top;\n",
       "    }\n",
       "</style>\n",
       "<table border=\"1\" class=\"dataframe\">\n",
       "  <thead>\n",
       "    <tr style=\"text-align: right;\">\n",
       "      <th></th>\n",
       "      <th>Proportion of x</th>\n",
       "      <th>Standard deviation</th>\n",
       "      <th>Mean</th>\n",
       "    </tr>\n",
       "  </thead>\n",
       "  <tbody>\n",
       "    <tr>\n",
       "      <th>0</th>\n",
       "      <td>-0.5</td>\n",
       "      <td>0.617211</td>\n",
       "      <td>0.1345</td>\n",
       "    </tr>\n",
       "    <tr>\n",
       "      <th>1</th>\n",
       "      <td>-0.4</td>\n",
       "      <td>0.581508</td>\n",
       "      <td>0.1316</td>\n",
       "    </tr>\n",
       "    <tr>\n",
       "      <th>2</th>\n",
       "      <td>-0.3</td>\n",
       "      <td>0.546807</td>\n",
       "      <td>0.1287</td>\n",
       "    </tr>\n",
       "    <tr>\n",
       "      <th>3</th>\n",
       "      <td>-0.2</td>\n",
       "      <td>0.513311</td>\n",
       "      <td>0.1258</td>\n",
       "    </tr>\n",
       "    <tr>\n",
       "      <th>4</th>\n",
       "      <td>-0.1</td>\n",
       "      <td>0.481271</td>\n",
       "      <td>0.1229</td>\n",
       "    </tr>\n",
       "  </tbody>\n",
       "</table>\n",
       "</div>"
      ],
      "text/plain": [
       "   Proportion of x  Standard deviation    Mean\n",
       "0             -0.5            0.617211  0.1345\n",
       "1             -0.4            0.581508  0.1316\n",
       "2             -0.3            0.546807  0.1287\n",
       "3             -0.2            0.513311  0.1258\n",
       "4             -0.1            0.481271  0.1229"
      ]
     },
     "execution_count": 174,
     "metadata": {},
     "output_type": "execute_result"
    }
   ],
   "source": [
    "df_portfolio.head()"
   ]
  },
  {
   "cell_type": "code",
   "execution_count": 175,
   "metadata": {},
   "outputs": [
    {
     "data": {
      "image/png": "[encoded data removed]",
      "text/plain": [
       "<matplotlib.figure.Figure at 0x1a13fbc940>"
      ]
     },
     "metadata": {},
     "output_type": "display_data"
    }
   ],
   "source": [
    "plt.scatter(df_portfolio['Standard deviation'], df_portfolio['Mean'])\n",
    "plt.plot(df_portfolio['Standard deviation'], df_portfolio['Mean'])\n",
    "plt.xlabel(\"$\\sigma_P$\")\n",
    "plt.show()"
   ]
  },
  {
   "cell_type": "code",
   "execution_count": null,
   "metadata": {
    "collapsed": true
   },
   "outputs": [],
   "source": []
  }
 ],
 "metadata": {
  "kernelspec": {
   "display_name": "Python 3",
   "language": "python",
   "name": "python3"
  },
  "language_info": {
   "codemirror_mode": {
    "name": "ipython",
    "version": 3
   },
   "file_extension": ".py",
   "mimetype": "text/x-python",
   "name": "python",
   "nbconvert_exporter": "python",
   "pygments_lexer": "ipython3",
   "version": "3.6.3"
  }
 },
 "nbformat": 4,
 "nbformat_minor": 2
}
