{
 "cells": [
  {
   "cell_type": "markdown",
   "metadata": {},
   "source": [
    "# Simon Benninga's Financial Modeling, 4th edition\n",
    "## Part II: Portfolio Models\n",
    "### Chapter 11: Estimating Betas and the Security Market Line"
   ]
  },
  {
   "cell_type": "code",
   "execution_count": 1,
   "metadata": {},
   "outputs": [
    {
     "name": "stderr",
     "output_type": "stream",
     "text": [
      "\n",
      "Bad key \"echo backend\" on line 1 in\n",
      "/Users/danieltoma/.matplotlib/matplotlibrc.\n",
      "You probably need to get an updated matplotlibrc file from\n",
      "http://github.com/matplotlib/matplotlib/blob/master/matplotlibrc.template\n",
      "or from the matplotlib source distribution\n"
     ]
    }
   ],
   "source": [
    "import numpy as np\n",
    "import pandas as pd"
   ]
  },
  {
   "cell_type": "code",
   "execution_count": 2,
   "metadata": {
    "collapsed": true
   },
   "outputs": [],
   "source": [
    "prices = pd.read_csv('pages_277.csv')"
   ]
  },
  {
   "cell_type": "code",
   "execution_count": 3,
   "metadata": {},
   "outputs": [
    {
     "data": {
      "text/html": [
       "<div>\n",
       "<style>\n",
       "    .dataframe thead tr:only-child th {\n",
       "        text-align: right;\n",
       "    }\n",
       "\n",
       "    .dataframe thead th {\n",
       "        text-align: left;\n",
       "    }\n",
       "\n",
       "    .dataframe tbody tr th {\n",
       "        vertical-align: top;\n",
       "    }\n",
       "</style>\n",
       "<table border=\"1\" class=\"dataframe\">\n",
       "  <thead>\n",
       "    <tr style=\"text-align: right;\">\n",
       "      <th></th>\n",
       "      <th>Date</th>\n",
       "      <th>S&amp;P 500 Index\r",
       "^GSPC</th>\n",
       "      <th>Alcoa \r",
       "AA</th>\n",
       "      <th>American International Group \r",
       "AIG</th>\n",
       "      <th>American Express AXP</th>\n",
       "      <th>Boeing BA</th>\n",
       "      <th>Citigroup C</th>\n",
       "      <th>Caterpillar CAT</th>\n",
       "      <th>DuPont DD</th>\n",
       "      <th>Disney DIS</th>\n",
       "      <th>...</th>\n",
       "      <th>Altria\r",
       "MO</th>\n",
       "      <th>Merck \r",
       "MRK</th>\n",
       "      <th>Microsoft \r",
       "MSFT</th>\n",
       "      <th>Pfizer \r",
       "PFE</th>\n",
       "      <th>Proctor Gamble \r",
       "PG</th>\n",
       "      <th>AT&amp;T \r",
       "T</th>\n",
       "      <th>United Technologies \r",
       "UTX</th>\n",
       "      <th>Verizon \r",
       "VZ</th>\n",
       "      <th>Walmart\r",
       "WMT</th>\n",
       "      <th>Exxon Mobil\r",
       "XOM</th>\n",
       "    </tr>\n",
       "  </thead>\n",
       "  <tbody>\n",
       "    <tr>\n",
       "      <th>0</th>\n",
       "      <td>01-07-03</td>\n",
       "      <td>1211.23</td>\n",
       "      <td>35.37</td>\n",
       "      <td>81.32</td>\n",
       "      <td>33.73</td>\n",
       "      <td>53.64</td>\n",
       "      <td>40.97</td>\n",
       "      <td>24.73</td>\n",
       "      <td>36.29</td>\n",
       "      <td>25.02</td>\n",
       "      <td>...</td>\n",
       "      <td>35.61</td>\n",
       "      <td>53.98</td>\n",
       "      <td>28.78</td>\n",
       "      <td>36.99</td>\n",
       "      <td>32.14</td>\n",
       "      <td>35.55</td>\n",
       "      <td>33.96</td>\n",
       "      <td>43.92</td>\n",
       "      <td>53.51</td>\n",
       "      <td>37.11</td>\n",
       "    </tr>\n",
       "    <tr>\n",
       "      <th>1</th>\n",
       "      <td>01-08-01</td>\n",
       "      <td>1133.58</td>\n",
       "      <td>34.50</td>\n",
       "      <td>76.43</td>\n",
       "      <td>30.46</td>\n",
       "      <td>47.06</td>\n",
       "      <td>37.49</td>\n",
       "      <td>22.45</td>\n",
       "      <td>35.01</td>\n",
       "      <td>24.14</td>\n",
       "      <td>...</td>\n",
       "      <td>37.10</td>\n",
       "      <td>51.96</td>\n",
       "      <td>24.81</td>\n",
       "      <td>34.47</td>\n",
       "      <td>33.55</td>\n",
       "      <td>32.30</td>\n",
       "      <td>31.75</td>\n",
       "      <td>40.55</td>\n",
       "      <td>45.99</td>\n",
       "      <td>35.88</td>\n",
       "    </tr>\n",
       "    <tr>\n",
       "      <th>2</th>\n",
       "      <td>01-09-04</td>\n",
       "      <td>1040.94</td>\n",
       "      <td>28.06</td>\n",
       "      <td>76.24</td>\n",
       "      <td>24.30</td>\n",
       "      <td>30.79</td>\n",
       "      <td>33.15</td>\n",
       "      <td>20.11</td>\n",
       "      <td>32.07</td>\n",
       "      <td>17.68</td>\n",
       "      <td>...</td>\n",
       "      <td>37.79</td>\n",
       "      <td>53.16</td>\n",
       "      <td>22.25</td>\n",
       "      <td>36.08</td>\n",
       "      <td>32.94</td>\n",
       "      <td>37.20</td>\n",
       "      <td>21.58</td>\n",
       "      <td>43.89</td>\n",
       "      <td>47.45</td>\n",
       "      <td>35.21</td>\n",
       "    </tr>\n",
       "    <tr>\n",
       "      <th>3</th>\n",
       "      <td>01-10-01</td>\n",
       "      <td>1059.78</td>\n",
       "      <td>29.34</td>\n",
       "      <td>76.82</td>\n",
       "      <td>24.68</td>\n",
       "      <td>29.97</td>\n",
       "      <td>37.26</td>\n",
       "      <td>20.23</td>\n",
       "      <td>34.18</td>\n",
       "      <td>17.65</td>\n",
       "      <td>...</td>\n",
       "      <td>36.63</td>\n",
       "      <td>50.93</td>\n",
       "      <td>25.29</td>\n",
       "      <td>37.70</td>\n",
       "      <td>33.57</td>\n",
       "      <td>30.26</td>\n",
       "      <td>25.01</td>\n",
       "      <td>40.68</td>\n",
       "      <td>49.28</td>\n",
       "      <td>35.25</td>\n",
       "    </tr>\n",
       "    <tr>\n",
       "      <th>4</th>\n",
       "      <td>01-11-01</td>\n",
       "      <td>1139.45</td>\n",
       "      <td>35.09</td>\n",
       "      <td>80.54</td>\n",
       "      <td>27.60</td>\n",
       "      <td>32.43</td>\n",
       "      <td>39.34</td>\n",
       "      <td>21.45</td>\n",
       "      <td>38.21</td>\n",
       "      <td>19.43</td>\n",
       "      <td>...</td>\n",
       "      <td>36.92</td>\n",
       "      <td>54.07</td>\n",
       "      <td>27.92</td>\n",
       "      <td>39.07</td>\n",
       "      <td>35.24</td>\n",
       "      <td>29.68</td>\n",
       "      <td>28.05</td>\n",
       "      <td>38.39</td>\n",
       "      <td>52.87</td>\n",
       "      <td>33.62</td>\n",
       "    </tr>\n",
       "  </tbody>\n",
       "</table>\n",
       "<p>5 rows × 32 columns</p>\n",
       "</div>"
      ],
      "text/plain": [
       "       Date  S&P 500 Index\\r^GSPC  Alcoa \\rAA  \\\n",
       "0  01-07-03               1211.23       35.37   \n",
       "1  01-08-01               1133.58       34.50   \n",
       "2  01-09-04               1040.94       28.06   \n",
       "3  01-10-01               1059.78       29.34   \n",
       "4  01-11-01               1139.45       35.09   \n",
       "\n",
       "   American International Group \\rAIG  American Express AXP  Boeing BA  \\\n",
       "0                               81.32                 33.73      53.64   \n",
       "1                               76.43                 30.46      47.06   \n",
       "2                               76.24                 24.30      30.79   \n",
       "3                               76.82                 24.68      29.97   \n",
       "4                               80.54                 27.60      32.43   \n",
       "\n",
       "   Citigroup C  Caterpillar CAT  DuPont DD  Disney DIS        ...         \\\n",
       "0        40.97            24.73      36.29       25.02        ...          \n",
       "1        37.49            22.45      35.01       24.14        ...          \n",
       "2        33.15            20.11      32.07       17.68        ...          \n",
       "3        37.26            20.23      34.18       17.65        ...          \n",
       "4        39.34            21.45      38.21       19.43        ...          \n",
       "\n",
       "   Altria\\rMO  Merck \\rMRK  Microsoft \\rMSFT  Pfizer \\rPFE  \\\n",
       "0       35.61        53.98             28.78         36.99   \n",
       "1       37.10        51.96             24.81         34.47   \n",
       "2       37.79        53.16             22.25         36.08   \n",
       "3       36.63        50.93             25.29         37.70   \n",
       "4       36.92        54.07             27.92         39.07   \n",
       "\n",
       "   Proctor Gamble \\rPG  AT&T \\rT  United Technologies \\rUTX  Verizon \\rVZ  \\\n",
       "0                32.14     35.55                      33.96         43.92   \n",
       "1                33.55     32.30                      31.75         40.55   \n",
       "2                32.94     37.20                      21.58         43.89   \n",
       "3                33.57     30.26                      25.01         40.68   \n",
       "4                35.24     29.68                      28.05         38.39   \n",
       "\n",
       "   Walmart\\rWMT  Exxon Mobil\\rXOM  \n",
       "0         53.51             37.11  \n",
       "1         45.99             35.88  \n",
       "2         47.45             35.21  \n",
       "3         49.28             35.25  \n",
       "4         52.87             33.62  \n",
       "\n",
       "[5 rows x 32 columns]"
      ]
     },
     "execution_count": 3,
     "metadata": {},
     "output_type": "execute_result"
    }
   ],
   "source": [
    "prices.head()"
   ]
  },
  {
   "cell_type": "code",
   "execution_count": 4,
   "metadata": {
    "collapsed": true
   },
   "outputs": [],
   "source": [
    "#transform these price data to returns"
   ]
  },
  {
   "cell_type": "code",
   "execution_count": 5,
   "metadata": {
    "collapsed": true
   },
   "outputs": [],
   "source": [
    "monthly_returns = pd.DataFrame(data=None, columns=prices.columns, dtype=float)\n",
    "for row in range(0, len(prices)):\n",
    "    monthly_returns = monthly_returns.append({'Date':prices.iloc[row][0]}, ignore_index=True)\n",
    "    for col in range(1, prices.columns.size):\n",
    "        monthly_returns.iloc[:,col] = np.log(prices.iloc[:,col]/prices.iloc[:,col].shift(1))"
   ]
  },
  {
   "cell_type": "code",
   "execution_count": 6,
   "metadata": {},
   "outputs": [
    {
     "data": {
      "text/html": [
       "<div>\n",
       "<style>\n",
       "    .dataframe thead tr:only-child th {\n",
       "        text-align: right;\n",
       "    }\n",
       "\n",
       "    .dataframe thead th {\n",
       "        text-align: left;\n",
       "    }\n",
       "\n",
       "    .dataframe tbody tr th {\n",
       "        vertical-align: top;\n",
       "    }\n",
       "</style>\n",
       "<table border=\"1\" class=\"dataframe\">\n",
       "  <thead>\n",
       "    <tr style=\"text-align: right;\">\n",
       "      <th></th>\n",
       "      <th>Date</th>\n",
       "      <th>S&amp;P 500 Index\r",
       "^GSPC</th>\n",
       "      <th>Alcoa \r",
       "AA</th>\n",
       "      <th>American International Group \r",
       "AIG</th>\n",
       "      <th>American Express AXP</th>\n",
       "      <th>Boeing BA</th>\n",
       "      <th>Citigroup C</th>\n",
       "      <th>Caterpillar CAT</th>\n",
       "      <th>DuPont DD</th>\n",
       "      <th>Disney DIS</th>\n",
       "      <th>...</th>\n",
       "      <th>Altria\r",
       "MO</th>\n",
       "      <th>Merck \r",
       "MRK</th>\n",
       "      <th>Microsoft \r",
       "MSFT</th>\n",
       "      <th>Pfizer \r",
       "PFE</th>\n",
       "      <th>Proctor Gamble \r",
       "PG</th>\n",
       "      <th>AT&amp;T \r",
       "T</th>\n",
       "      <th>United Technologies \r",
       "UTX</th>\n",
       "      <th>Verizon \r",
       "VZ</th>\n",
       "      <th>Walmart\r",
       "WMT</th>\n",
       "      <th>Exxon Mobil\r",
       "XOM</th>\n",
       "    </tr>\n",
       "  </thead>\n",
       "  <tbody>\n",
       "    <tr>\n",
       "      <th>0</th>\n",
       "      <td>01-07-03</td>\n",
       "      <td>NaN</td>\n",
       "      <td>NaN</td>\n",
       "      <td>NaN</td>\n",
       "      <td>NaN</td>\n",
       "      <td>NaN</td>\n",
       "      <td>NaN</td>\n",
       "      <td>NaN</td>\n",
       "      <td>NaN</td>\n",
       "      <td>NaN</td>\n",
       "      <td>...</td>\n",
       "      <td>NaN</td>\n",
       "      <td>NaN</td>\n",
       "      <td>NaN</td>\n",
       "      <td>NaN</td>\n",
       "      <td>NaN</td>\n",
       "      <td>NaN</td>\n",
       "      <td>NaN</td>\n",
       "      <td>NaN</td>\n",
       "      <td>NaN</td>\n",
       "      <td>NaN</td>\n",
       "    </tr>\n",
       "    <tr>\n",
       "      <th>1</th>\n",
       "      <td>01-08-01</td>\n",
       "      <td>-0.066256</td>\n",
       "      <td>-0.024905</td>\n",
       "      <td>-0.062017</td>\n",
       "      <td>-0.101973</td>\n",
       "      <td>-0.130872</td>\n",
       "      <td>-0.088766</td>\n",
       "      <td>-0.096726</td>\n",
       "      <td>-0.035908</td>\n",
       "      <td>-0.035805</td>\n",
       "      <td>...</td>\n",
       "      <td>0.040990</td>\n",
       "      <td>-0.038139</td>\n",
       "      <td>-0.148434</td>\n",
       "      <td>-0.070558</td>\n",
       "      <td>0.042936</td>\n",
       "      <td>-0.095873</td>\n",
       "      <td>-0.067291</td>\n",
       "      <td>-0.079834</td>\n",
       "      <td>-0.151445</td>\n",
       "      <td>-0.033706</td>\n",
       "    </tr>\n",
       "    <tr>\n",
       "      <th>2</th>\n",
       "      <td>01-09-04</td>\n",
       "      <td>-0.085257</td>\n",
       "      <td>-0.206614</td>\n",
       "      <td>-0.002489</td>\n",
       "      <td>-0.225938</td>\n",
       "      <td>-0.424233</td>\n",
       "      <td>-0.123032</td>\n",
       "      <td>-0.110073</td>\n",
       "      <td>-0.087713</td>\n",
       "      <td>-0.311436</td>\n",
       "      <td>...</td>\n",
       "      <td>0.018428</td>\n",
       "      <td>0.022832</td>\n",
       "      <td>-0.108905</td>\n",
       "      <td>0.045649</td>\n",
       "      <td>-0.018349</td>\n",
       "      <td>0.141242</td>\n",
       "      <td>-0.386126</td>\n",
       "      <td>0.079151</td>\n",
       "      <td>0.031253</td>\n",
       "      <td>-0.018850</td>\n",
       "    </tr>\n",
       "    <tr>\n",
       "      <th>3</th>\n",
       "      <td>01-10-01</td>\n",
       "      <td>0.017937</td>\n",
       "      <td>0.044607</td>\n",
       "      <td>0.007579</td>\n",
       "      <td>0.015517</td>\n",
       "      <td>-0.026993</td>\n",
       "      <td>0.116878</td>\n",
       "      <td>0.005949</td>\n",
       "      <td>0.063720</td>\n",
       "      <td>-0.001698</td>\n",
       "      <td>...</td>\n",
       "      <td>-0.031177</td>\n",
       "      <td>-0.042854</td>\n",
       "      <td>0.128067</td>\n",
       "      <td>0.043921</td>\n",
       "      <td>0.018945</td>\n",
       "      <td>-0.206482</td>\n",
       "      <td>0.147509</td>\n",
       "      <td>-0.075950</td>\n",
       "      <td>0.037842</td>\n",
       "      <td>0.001135</td>\n",
       "    </tr>\n",
       "    <tr>\n",
       "      <th>4</th>\n",
       "      <td>01-11-01</td>\n",
       "      <td>0.072484</td>\n",
       "      <td>0.178964</td>\n",
       "      <td>0.047289</td>\n",
       "      <td>0.111823</td>\n",
       "      <td>0.078887</td>\n",
       "      <td>0.054321</td>\n",
       "      <td>0.058558</td>\n",
       "      <td>0.111457</td>\n",
       "      <td>0.096082</td>\n",
       "      <td>...</td>\n",
       "      <td>0.007886</td>\n",
       "      <td>0.059827</td>\n",
       "      <td>0.098934</td>\n",
       "      <td>0.035695</td>\n",
       "      <td>0.048549</td>\n",
       "      <td>-0.019353</td>\n",
       "      <td>0.114713</td>\n",
       "      <td>-0.057940</td>\n",
       "      <td>0.070318</td>\n",
       "      <td>-0.047344</td>\n",
       "    </tr>\n",
       "  </tbody>\n",
       "</table>\n",
       "<p>5 rows × 32 columns</p>\n",
       "</div>"
      ],
      "text/plain": [
       "       Date  S&P 500 Index\\r^GSPC  Alcoa \\rAA  \\\n",
       "0  01-07-03                   NaN         NaN   \n",
       "1  01-08-01             -0.066256   -0.024905   \n",
       "2  01-09-04             -0.085257   -0.206614   \n",
       "3  01-10-01              0.017937    0.044607   \n",
       "4  01-11-01              0.072484    0.178964   \n",
       "\n",
       "   American International Group \\rAIG  American Express AXP  Boeing BA  \\\n",
       "0                                 NaN                   NaN        NaN   \n",
       "1                           -0.062017             -0.101973  -0.130872   \n",
       "2                           -0.002489             -0.225938  -0.424233   \n",
       "3                            0.007579              0.015517  -0.026993   \n",
       "4                            0.047289              0.111823   0.078887   \n",
       "\n",
       "   Citigroup C  Caterpillar CAT  DuPont DD  Disney DIS        ...         \\\n",
       "0          NaN              NaN        NaN         NaN        ...          \n",
       "1    -0.088766        -0.096726  -0.035908   -0.035805        ...          \n",
       "2    -0.123032        -0.110073  -0.087713   -0.311436        ...          \n",
       "3     0.116878         0.005949   0.063720   -0.001698        ...          \n",
       "4     0.054321         0.058558   0.111457    0.096082        ...          \n",
       "\n",
       "   Altria\\rMO  Merck \\rMRK  Microsoft \\rMSFT  Pfizer \\rPFE  \\\n",
       "0         NaN          NaN               NaN           NaN   \n",
       "1    0.040990    -0.038139         -0.148434     -0.070558   \n",
       "2    0.018428     0.022832         -0.108905      0.045649   \n",
       "3   -0.031177    -0.042854          0.128067      0.043921   \n",
       "4    0.007886     0.059827          0.098934      0.035695   \n",
       "\n",
       "   Proctor Gamble \\rPG  AT&T \\rT  United Technologies \\rUTX  Verizon \\rVZ  \\\n",
       "0                  NaN       NaN                        NaN           NaN   \n",
       "1             0.042936 -0.095873                  -0.067291     -0.079834   \n",
       "2            -0.018349  0.141242                  -0.386126      0.079151   \n",
       "3             0.018945 -0.206482                   0.147509     -0.075950   \n",
       "4             0.048549 -0.019353                   0.114713     -0.057940   \n",
       "\n",
       "   Walmart\\rWMT  Exxon Mobil\\rXOM  \n",
       "0           NaN               NaN  \n",
       "1     -0.151445         -0.033706  \n",
       "2      0.031253         -0.018850  \n",
       "3      0.037842          0.001135  \n",
       "4      0.070318         -0.047344  \n",
       "\n",
       "[5 rows x 32 columns]"
      ]
     },
     "execution_count": 6,
     "metadata": {},
     "output_type": "execute_result"
    }
   ],
   "source": [
    "monthly_returns.head()"
   ]
  },
  {
   "cell_type": "code",
   "execution_count": 7,
   "metadata": {},
   "outputs": [
    {
     "data": {
      "text/plain": [
       "array([ 0.00073025, -0.00088045, -0.00535605,  0.00720786,  0.00666011,\n",
       "        0.00301019,  0.01794454,  0.00184578,  0.00293065, -0.00234459,\n",
       "       -0.00871159, -0.00517898,  0.00289388,  0.0060646 , -0.00465123,\n",
       "       -0.00726481,  0.00337417,  0.00184752,  0.00117112,  0.0034537 ,\n",
       "        0.00637421,  0.01302525, -0.00630845, -0.00352046, -0.00743361,\n",
       "        0.00940232, -0.00413441,  0.01032562, -0.00491148, -0.00252045,\n",
       "        0.00877842])"
      ]
     },
     "execution_count": 7,
     "metadata": {},
     "output_type": "execute_result"
    }
   ],
   "source": [
    "average_return = np.array(monthly_returns.mean())\n",
    "average_return"
   ]
  },
  {
   "cell_type": "code",
   "execution_count": 8,
   "metadata": {
    "collapsed": true
   },
   "outputs": [],
   "source": [
    "from scipy.stats import linregress"
   ]
  },
  {
   "cell_type": "code",
   "execution_count": 9,
   "metadata": {
    "collapsed": true
   },
   "outputs": [],
   "source": [
    "market = np.array(monthly_returns.iloc[1:,[1]].T)[0]"
   ]
  },
  {
   "cell_type": "code",
   "execution_count": 10,
   "metadata": {
    "collapsed": true
   },
   "outputs": [],
   "source": [
    "beta=[]\n",
    "alpha=[]\n",
    "rsq=[]\n",
    "for i in range(1, monthly_returns.columns.size):\n",
    "    beta.append(linregress(market, monthly_returns.iloc[1:,i].T).slope)\n",
    "    alpha.append(linregress(market, monthly_returns.iloc[1:,i].T).intercept)\n",
    "    rsq.append(linregress(market, monthly_returns.iloc[1:,i].T).rvalue ** 2)"
   ]
  },
  {
   "cell_type": "code",
   "execution_count": 11,
   "metadata": {},
   "outputs": [
    {
     "data": {
      "text/plain": [
       "[1.0,\n",
       " 1.9027983836619951,\n",
       " 0.9935759742954664,\n",
       " 1.3784130266948678,\n",
       " 1.1514634616640855]"
      ]
     },
     "execution_count": 11,
     "metadata": {},
     "output_type": "execute_result"
    }
   ],
   "source": [
    "beta[0:5]"
   ]
  },
  {
   "cell_type": "code",
   "execution_count": 12,
   "metadata": {},
   "outputs": [
    {
     "data": {
      "text/plain": [
       "[0.0,\n",
       " -0.0022699748020782329,\n",
       " -0.0060816133981730592,\n",
       " 0.0062012673597366492,\n",
       " 0.0058192508894684232]"
      ]
     },
     "execution_count": 12,
     "metadata": {},
     "output_type": "execute_result"
    }
   ],
   "source": [
    "alpha[0:5]"
   ]
  },
  {
   "cell_type": "code",
   "execution_count": 13,
   "metadata": {},
   "outputs": [
    {
     "data": {
      "text/plain": [
       "[1.0,\n",
       " 0.60847765066893644,\n",
       " 0.35184811122035275,\n",
       " 0.70517801760363652,\n",
       " 0.24867752412854963]"
      ]
     },
     "execution_count": 13,
     "metadata": {},
     "output_type": "execute_result"
    }
   ],
   "source": [
    "rsq[0:5]"
   ]
  },
  {
   "cell_type": "code",
   "execution_count": 14,
   "metadata": {
    "collapsed": true
   },
   "outputs": [],
   "source": [
    "#the second-pass regression"
   ]
  },
  {
   "cell_type": "code",
   "execution_count": 15,
   "metadata": {},
   "outputs": [
    {
     "data": {
      "text/plain": [
       "0.0036425889567741994"
      ]
     },
     "execution_count": 15,
     "metadata": {},
     "output_type": "execute_result"
    }
   ],
   "source": [
    "#intercept\n",
    "intercept = linregress(beta[1:], average_return[1:]).intercept\n",
    "intercept"
   ]
  },
  {
   "cell_type": "code",
   "execution_count": 16,
   "metadata": {},
   "outputs": [
    {
     "data": {
      "text/plain": [
       "-0.0019724382524452422"
      ]
     },
     "execution_count": 16,
     "metadata": {},
     "output_type": "execute_result"
    }
   ],
   "source": [
    "#slope\n",
    "slope = linregress(beta[1:], average_return[1:]).slope\n",
    "slope"
   ]
  },
  {
   "cell_type": "code",
   "execution_count": 17,
   "metadata": {},
   "outputs": [
    {
     "data": {
      "text/plain": [
       "0.023752424923938437"
      ]
     },
     "execution_count": 17,
     "metadata": {},
     "output_type": "execute_result"
    }
   ],
   "source": [
    "#R-squared\n",
    "r2 = linregress(beta[1:], average_return[1:]).rvalue ** 2\n",
    "r2"
   ]
  },
  {
   "cell_type": "markdown",
   "metadata": {},
   "source": [
    "Our test of the SML has failed. The CAPM may have prescriptive validity, but it does not describe our data.\n",
    "Reasons: Perhaps the CAPM itself does not hold. Perhaps CAPM holds only for portfolios and not for single assets.\n",
    "Perhaps our set of assets isn't large enouth. Perhaps the \"Market Portfolio isn't efficient. Perhaps the CAPM holds only if the markets returns are positive (in the period surveyed they were, on average, negative)"
   ]
  },
  {
   "cell_type": "code",
   "execution_count": 18,
   "metadata": {},
   "outputs": [
    {
     "data": {
      "text/html": [
       "<div>\n",
       "<style>\n",
       "    .dataframe thead tr:only-child th {\n",
       "        text-align: right;\n",
       "    }\n",
       "\n",
       "    .dataframe thead th {\n",
       "        text-align: left;\n",
       "    }\n",
       "\n",
       "    .dataframe tbody tr th {\n",
       "        vertical-align: top;\n",
       "    }\n",
       "</style>\n",
       "<table border=\"1\" class=\"dataframe\">\n",
       "  <thead>\n",
       "    <tr style=\"text-align: right;\">\n",
       "      <th></th>\n",
       "      <th>Beta</th>\n",
       "      <th>R-squared</th>\n",
       "    </tr>\n",
       "  </thead>\n",
       "  <tbody>\n",
       "    <tr>\n",
       "      <th>Alcoa \\rAA</th>\n",
       "      <td>1.902798</td>\n",
       "      <td>0.608478</td>\n",
       "    </tr>\n",
       "    <tr>\n",
       "      <th>American International Group \\rAIG</th>\n",
       "      <td>0.993576</td>\n",
       "      <td>0.351848</td>\n",
       "    </tr>\n",
       "    <tr>\n",
       "      <th>American Express AXP</th>\n",
       "      <td>1.378413</td>\n",
       "      <td>0.705178</td>\n",
       "    </tr>\n",
       "    <tr>\n",
       "      <th>Boeing BA</th>\n",
       "      <td>1.151463</td>\n",
       "      <td>0.248678</td>\n",
       "    </tr>\n",
       "    <tr>\n",
       "      <th>Citigroup C</th>\n",
       "      <td>1.295165</td>\n",
       "      <td>0.597184</td>\n",
       "    </tr>\n",
       "  </tbody>\n",
       "</table>\n",
       "</div>"
      ],
      "text/plain": [
       "                                        Beta  R-squared\n",
       "Alcoa \\rAA                          1.902798   0.608478\n",
       "American International Group \\rAIG  0.993576   0.351848\n",
       "American Express AXP                1.378413   0.705178\n",
       "Boeing BA                           1.151463   0.248678\n",
       "Citigroup C                         1.295165   0.597184"
      ]
     },
     "execution_count": 18,
     "metadata": {},
     "output_type": "execute_result"
    }
   ],
   "source": [
    "graph = pd.DataFrame(data=None, index=prices.columns[2:])\n",
    "graph['Beta'] = beta[1:]\n",
    "graph['R-squared'] = rsq[1:]\n",
    "graph.head()"
   ]
  },
  {
   "cell_type": "code",
   "execution_count": 19,
   "metadata": {
    "collapsed": true
   },
   "outputs": [],
   "source": [
    "%matplotlib inline"
   ]
  },
  {
   "cell_type": "code",
   "execution_count": 20,
   "metadata": {
    "collapsed": true
   },
   "outputs": [],
   "source": [
    "import matplotlib.pyplot as plt"
   ]
  },
  {
   "cell_type": "code",
   "execution_count": 21,
   "metadata": {},
   "outputs": [
    {
     "data": {
      "text/plain": [
       "<matplotlib.axes._subplots.AxesSubplot at 0x1a0eaff6a0>"
      ]
     },
     "execution_count": 21,
     "metadata": {},
     "output_type": "execute_result"
    },
    {
     "data": {
      "image/png": "[encoded data removed]",
      "text/plain": [
       "<matplotlib.figure.Figure at 0x1a0ea6edd8>"
      ]
     },
     "metadata": {},
     "output_type": "display_data"
    }
   ],
   "source": [
    "graph[0:].plot(x=graph.index, y='Beta', kind='bar')"
   ]
  },
  {
   "cell_type": "code",
   "execution_count": 22,
   "metadata": {},
   "outputs": [
    {
     "data": {
      "text/plain": [
       "0.00061966988468731353"
      ]
     },
     "execution_count": 22,
     "metadata": {},
     "output_type": "execute_result"
    }
   ],
   "source": [
    "#Average alpha\n",
    "np.mean(alpha[1:])"
   ]
  },
  {
   "cell_type": "code",
   "execution_count": 23,
   "metadata": {},
   "outputs": [
    {
     "data": {
      "text/plain": [
       "1.118485177149374"
      ]
     },
     "execution_count": 23,
     "metadata": {},
     "output_type": "execute_result"
    }
   ],
   "source": [
    "#Average beta\n",
    "np.mean(beta[1:])"
   ]
  },
  {
   "cell_type": "code",
   "execution_count": 24,
   "metadata": {},
   "outputs": [
    {
     "data": {
      "text/plain": [
       "0.35095346425124202"
      ]
     },
     "execution_count": 24,
     "metadata": {},
     "output_type": "execute_result"
    }
   ],
   "source": [
    "#Average r-squared\n",
    "np.mean(rsq[1:])"
   ]
  },
  {
   "cell_type": "code",
   "execution_count": 25,
   "metadata": {
    "collapsed": true
   },
   "outputs": [],
   "source": [
    "df = monthly_returns.iloc[1:,2:]\n",
    "n=len(df.columns)"
   ]
  },
  {
   "cell_type": "code",
   "execution_count": 26,
   "metadata": {
    "collapsed": true
   },
   "outputs": [],
   "source": [
    "matrix = pd.DataFrame(columns=df.columns[0:], index=df.columns[0:], dtype=float)\n",
    "for i in range(0, n):\n",
    "    for j in range(0, n):\n",
    "        if i == j:\n",
    "            matrix.iloc[i, j] = np.cov(df.iloc[:,i],df.iloc[:,j])[0][0]\n",
    "        else:\n",
    "            matrix.iloc[i, j] = np.cov(df.iloc[:,i],df.iloc[:,j])[0][1]"
   ]
  },
  {
   "cell_type": "code",
   "execution_count": 27,
   "metadata": {},
   "outputs": [
    {
     "data": {
      "text/html": [
       "<div>\n",
       "<style>\n",
       "    .dataframe thead tr:only-child th {\n",
       "        text-align: right;\n",
       "    }\n",
       "\n",
       "    .dataframe thead th {\n",
       "        text-align: left;\n",
       "    }\n",
       "\n",
       "    .dataframe tbody tr th {\n",
       "        vertical-align: top;\n",
       "    }\n",
       "</style>\n",
       "<table border=\"1\" class=\"dataframe\">\n",
       "  <thead>\n",
       "    <tr style=\"text-align: right;\">\n",
       "      <th></th>\n",
       "      <th>Alcoa \r",
       "AA</th>\n",
       "      <th>American International Group \r",
       "AIG</th>\n",
       "      <th>American Express AXP</th>\n",
       "      <th>Boeing BA</th>\n",
       "      <th>Citigroup C</th>\n",
       "    </tr>\n",
       "  </thead>\n",
       "  <tbody>\n",
       "    <tr>\n",
       "      <th>Alcoa \\rAA</th>\n",
       "      <td>0.009281</td>\n",
       "      <td>0.003200</td>\n",
       "      <td>0.003760</td>\n",
       "      <td>0.004504</td>\n",
       "      <td>0.003344</td>\n",
       "    </tr>\n",
       "    <tr>\n",
       "      <th>American International Group \\rAIG</th>\n",
       "      <td>0.003200</td>\n",
       "      <td>0.004376</td>\n",
       "      <td>0.002021</td>\n",
       "      <td>0.000982</td>\n",
       "      <td>0.002289</td>\n",
       "    </tr>\n",
       "    <tr>\n",
       "      <th>American Express AXP</th>\n",
       "      <td>0.003760</td>\n",
       "      <td>0.002021</td>\n",
       "      <td>0.004202</td>\n",
       "      <td>0.003013</td>\n",
       "      <td>0.003084</td>\n",
       "    </tr>\n",
       "    <tr>\n",
       "      <th>Boeing BA</th>\n",
       "      <td>0.004504</td>\n",
       "      <td>0.000982</td>\n",
       "      <td>0.003013</td>\n",
       "      <td>0.008316</td>\n",
       "      <td>0.001434</td>\n",
       "    </tr>\n",
       "    <tr>\n",
       "      <th>Citigroup C</th>\n",
       "      <td>0.003344</td>\n",
       "      <td>0.002289</td>\n",
       "      <td>0.003084</td>\n",
       "      <td>0.001434</td>\n",
       "      <td>0.004381</td>\n",
       "    </tr>\n",
       "  </tbody>\n",
       "</table>\n",
       "</div>"
      ],
      "text/plain": [
       "                                    Alcoa \\rAA  \\\n",
       "Alcoa \\rAA                            0.009281   \n",
       "American International Group \\rAIG    0.003200   \n",
       "American Express AXP                  0.003760   \n",
       "Boeing BA                             0.004504   \n",
       "Citigroup C                           0.003344   \n",
       "\n",
       "                                    American International Group \\rAIG  \\\n",
       "Alcoa \\rAA                                                    0.003200   \n",
       "American International Group \\rAIG                            0.004376   \n",
       "American Express AXP                                          0.002021   \n",
       "Boeing BA                                                     0.000982   \n",
       "Citigroup C                                                   0.002289   \n",
       "\n",
       "                                    American Express AXP  Boeing BA  \\\n",
       "Alcoa \\rAA                                      0.003760   0.004504   \n",
       "American International Group \\rAIG              0.002021   0.000982   \n",
       "American Express AXP                            0.004202   0.003013   \n",
       "Boeing BA                                       0.003013   0.008316   \n",
       "Citigroup C                                     0.003084   0.001434   \n",
       "\n",
       "                                    Citigroup C  \n",
       "Alcoa \\rAA                             0.003344  \n",
       "American International Group \\rAIG     0.002289  \n",
       "American Express AXP                   0.003084  \n",
       "Boeing BA                              0.001434  \n",
       "Citigroup C                            0.004381  "
      ]
     },
     "execution_count": 27,
     "metadata": {},
     "output_type": "execute_result"
    }
   ],
   "source": [
    "matrix.iloc[0:5,0:5]"
   ]
  },
  {
   "cell_type": "code",
   "execution_count": 28,
   "metadata": {},
   "outputs": [
    {
     "data": {
      "text/plain": [
       "array([ 0.054533  , -0.11770778, -0.05777415, -0.13940218, -0.36597846,\n",
       "        0.76258386, -0.22553923, -0.17046386, -0.08799002, -0.37734605,\n",
       "       -0.37209624, -0.17396667,  0.39790129, -0.26380245, -0.18624147,\n",
       "        0.65075625,  0.53610176, -0.12953198, -0.12181615, -0.02066303,\n",
       "        0.42146   ,  0.08293597,  0.03612117, -0.61185819,  0.54673295,\n",
       "       -0.08376953,  0.44052369, -0.36551   ,  0.64783317,  0.29397433])"
      ]
     },
     "execution_count": 28,
     "metadata": {},
     "output_type": "execute_result"
    }
   ],
   "source": [
    "w = np.divide(np.dot(np.linalg.inv(matrix), (average_return[1:].T - 0.003)),\n",
    "              np.sum(np.dot(np.linalg.inv(matrix), (average_return[1:].T - 0.003))))\n",
    "w"
   ]
  },
  {
   "cell_type": "code",
   "execution_count": 29,
   "metadata": {},
   "outputs": [
    {
     "data": {
      "text/plain": [
       "1.0"
      ]
     },
     "execution_count": 29,
     "metadata": {},
     "output_type": "execute_result"
    }
   ],
   "source": [
    "sum(w)"
   ]
  },
  {
   "cell_type": "code",
   "execution_count": 30,
   "metadata": {},
   "outputs": [
    {
     "data": {
      "text/plain": [
       "-0.6118581918127457"
      ]
     },
     "execution_count": 30,
     "metadata": {},
     "output_type": "execute_result"
    }
   ],
   "source": [
    "#largest short position\n",
    "min(w) "
   ]
  },
  {
   "cell_type": "code",
   "execution_count": 31,
   "metadata": {},
   "outputs": [
    {
     "data": {
      "text/plain": [
       "0.76258386330203298"
      ]
     },
     "execution_count": 31,
     "metadata": {},
     "output_type": "execute_result"
    }
   ],
   "source": [
    "#largest long position\n",
    "max(w)"
   ]
  },
  {
   "cell_type": "code",
   "execution_count": 32,
   "metadata": {
    "collapsed": true
   },
   "outputs": [],
   "source": [
    "#Using Excess Returns\n",
    "risk_free = pd.read_csv('pages_287_Tbill.csv', index_col=0)"
   ]
  },
  {
   "cell_type": "code",
   "execution_count": 33,
   "metadata": {},
   "outputs": [
    {
     "data": {
      "text/html": [
       "<div>\n",
       "<style>\n",
       "    .dataframe thead tr:only-child th {\n",
       "        text-align: right;\n",
       "    }\n",
       "\n",
       "    .dataframe thead th {\n",
       "        text-align: left;\n",
       "    }\n",
       "\n",
       "    .dataframe tbody tr th {\n",
       "        vertical-align: top;\n",
       "    }\n",
       "</style>\n",
       "<table border=\"1\" class=\"dataframe\">\n",
       "  <thead>\n",
       "    <tr style=\"text-align: right;\">\n",
       "      <th></th>\n",
       "      <th>T-bill</th>\n",
       "    </tr>\n",
       "    <tr>\n",
       "      <th>Date</th>\n",
       "      <th></th>\n",
       "    </tr>\n",
       "  </thead>\n",
       "  <tbody>\n",
       "    <tr>\n",
       "      <th>01-Aug-01</th>\n",
       "      <td>0.002925</td>\n",
       "    </tr>\n",
       "    <tr>\n",
       "      <th>04-Sep-01</th>\n",
       "      <td>0.002800</td>\n",
       "    </tr>\n",
       "    <tr>\n",
       "      <th>01-Oct-01</th>\n",
       "      <td>0.002200</td>\n",
       "    </tr>\n",
       "    <tr>\n",
       "      <th>01-Nov-01</th>\n",
       "      <td>0.001800</td>\n",
       "    </tr>\n",
       "    <tr>\n",
       "      <th>03-Dec-01</th>\n",
       "      <td>0.001558</td>\n",
       "    </tr>\n",
       "  </tbody>\n",
       "</table>\n",
       "</div>"
      ],
      "text/plain": [
       "             T-bill\n",
       "Date               \n",
       "01-Aug-01  0.002925\n",
       "04-Sep-01  0.002800\n",
       "01-Oct-01  0.002200\n",
       "01-Nov-01  0.001800\n",
       "03-Dec-01  0.001558"
      ]
     },
     "execution_count": 33,
     "metadata": {},
     "output_type": "execute_result"
    }
   ],
   "source": [
    "risk_free.head()"
   ]
  },
  {
   "cell_type": "code",
   "execution_count": 34,
   "metadata": {
    "collapsed": true
   },
   "outputs": [],
   "source": [
    "returns = monthly_returns.iloc[1:,1:]\n",
    "excess = pd.DataFrame(columns=returns.columns, index=returns.index, dtype=float)\n",
    "f = np.array(risk_free)\n",
    "for i in range(0, len(returns)):\n",
    "    for j in range(0, len(returns.columns)):\n",
    "        excess.iloc[i, j] = returns.iloc[i, j] - f[0][0] #the book uses the first only \"0.002925\""
   ]
  },
  {
   "cell_type": "code",
   "execution_count": 35,
   "metadata": {
    "collapsed": true
   },
   "outputs": [],
   "source": [
    "excess_average = excess.mean()"
   ]
  },
  {
   "cell_type": "code",
   "execution_count": 36,
   "metadata": {
    "collapsed": true
   },
   "outputs": [],
   "source": [
    "excess_beta=[]\n",
    "excess_alpha=[]\n",
    "excess_rsq=[]\n",
    "excess_market = excess.iloc[0:,0].T\n",
    "for i in range(0, 31):\n",
    "    excess_beta.append(linregress(excess_market, returns.iloc[0:,i].T).slope)\n",
    "    excess_alpha.append(linregress(excess_market, returns.iloc[0:,i].T).intercept)\n",
    "    excess_rsq.append(linregress(excess_market, returns.iloc[0:,i].T).rvalue ** 2)"
   ]
  },
  {
   "cell_type": "code",
   "execution_count": 38,
   "metadata": {},
   "outputs": [
    {
     "data": {
      "text/plain": [
       "1.118485177149374"
      ]
     },
     "execution_count": 38,
     "metadata": {},
     "output_type": "execute_result"
    }
   ],
   "source": [
    "#Average beta\n",
    "np.mean(excess_beta[1:])"
   ]
  },
  {
   "cell_type": "code",
   "execution_count": 39,
   "metadata": {},
   "outputs": [
    {
     "data": {
      "text/plain": [
       "0.35095346425124191"
      ]
     },
     "execution_count": 39,
     "metadata": {},
     "output_type": "execute_result"
    }
   ],
   "source": [
    "#Average r-squared\n",
    "np.mean(excess_rsq[1:])"
   ]
  },
  {
   "cell_type": "code",
   "execution_count": null,
   "metadata": {
    "collapsed": true
   },
   "outputs": [],
   "source": []
  }
 ],
 "metadata": {
  "kernelspec": {
   "display_name": "Python 3",
   "language": "python",
   "name": "python3"
  },
  "language_info": {
   "codemirror_mode": {
    "name": "ipython",
    "version": 3
   },
   "file_extension": ".py",
   "mimetype": "text/x-python",
   "name": "python",
   "nbconvert_exporter": "python",
   "pygments_lexer": "ipython3",
   "version": "3.6.3"
  }
 },
 "nbformat": 4,
 "nbformat_minor": 2
}
