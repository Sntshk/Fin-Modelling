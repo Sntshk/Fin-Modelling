{
 "cells": [
  {
   "cell_type": "markdown",
   "metadata": {
    "collapsed": true
   },
   "source": [
    "# Simon Benninga's Financial Modeling, 4th edition\n",
    "## Part II: Portfolio Models\n",
    "### Chapter 9: Calculating Efficient Portfolios\n",
    "#### 9.4: Calculating the efficient frontier"
   ]
  },
  {
   "cell_type": "code",
   "execution_count": 1,
   "metadata": {},
   "outputs": [
    {
     "name": "stderr",
     "output_type": "stream",
     "text": [
      "\n",
      "Bad key \"echo backend\" on line 1 in\n",
      "/Users/danieltoma/.matplotlib/matplotlibrc.\n",
      "You probably need to get an updated matplotlibrc file from\n",
      "http://github.com/matplotlib/matplotlib/blob/master/matplotlibrc.template\n",
      "or from the matplotlib source distribution\n"
     ]
    }
   ],
   "source": [
    "import numpy as np\n",
    "import pandas as pd"
   ]
  },
  {
   "cell_type": "code",
   "execution_count": 2,
   "metadata": {},
   "outputs": [
    {
     "data": {
      "text/plain": [
       "array([[ 0.02],\n",
       "       [ 0.04],\n",
       "       [ 0.06],\n",
       "       [ 0.11]])"
      ]
     },
     "execution_count": 2,
     "metadata": {},
     "output_type": "execute_result"
    }
   ],
   "source": [
    "var_cov_matrix = np.array([[0.10, 0.01, 0.03, 0.05],\n",
    "                          [0.01, 0.30, 0.06, -0.04],\n",
    "                          [0.03, 0.06, 0.40, 0.02],\n",
    "                          [0.05, -0.04, 0.02, 0.50]])\n",
    "constant_c = 0.04\n",
    "mean_returns = np.array([[0.06],\n",
    "                        [0.08],\n",
    "                        [0.10],\n",
    "                        [0.15]])\n",
    "mean_returns_minus_constant = (mean_returns - constant_c)\n",
    "mean_returns_minus_constant"
   ]
  },
  {
   "cell_type": "code",
   "execution_count": 3,
   "metadata": {},
   "outputs": [
    {
     "data": {
      "text/plain": [
       "array([[ 0.38610628],\n",
       "       [ 0.25673205],\n",
       "       [ 0.16877337],\n",
       "       [ 0.275177  ]])"
      ]
     },
     "execution_count": 3,
     "metadata": {},
     "output_type": "execute_result"
    }
   ],
   "source": [
    "#Computing an envelope portfolio with constant = 0%\n",
    "z_0 = np.dot(np.linalg.inv(var_cov_matrix), mean_returns)\n",
    "z_0"
   ]
  },
  {
   "cell_type": "code",
   "execution_count": 4,
   "metadata": {},
   "outputs": [
    {
     "data": {
      "text/plain": [
       "array([[ 0.35527263],\n",
       "       [ 0.23622996],\n",
       "       [ 0.15529548],\n",
       "       [ 0.25320193]])"
      ]
     },
     "execution_count": 4,
     "metadata": {},
     "output_type": "execute_result"
    }
   ],
   "source": [
    "envelope_portfolio_x = np.divide(z_0, np.sum(z_0))\n",
    "envelope_portfolio_x"
   ]
  },
  {
   "cell_type": "code",
   "execution_count": 5,
   "metadata": {},
   "outputs": [
    {
     "data": {
      "text/plain": [
       "array([[ 0.04039606],\n",
       "       [ 0.13863621],\n",
       "       [ 0.1150524 ],\n",
       "       [ 0.22244919]])"
      ]
     },
     "execution_count": 5,
     "metadata": {},
     "output_type": "execute_result"
    }
   ],
   "source": [
    "#Computing an envelope portfolio with constant = 4%\n",
    "z_4 = np.dot(np.linalg.inv(var_cov_matrix), mean_returns_minus_constant)\n",
    "z_4"
   ]
  },
  {
   "cell_type": "code",
   "execution_count": 6,
   "metadata": {},
   "outputs": [
    {
     "data": {
      "text/plain": [
       "array([[ 0.07820602],\n",
       "       [ 0.26839713],\n",
       "       [ 0.22273932],\n",
       "       [ 0.43065752]])"
      ]
     },
     "execution_count": 6,
     "metadata": {},
     "output_type": "execute_result"
    }
   ],
   "source": [
    "envelope_portfolio_y = np.divide(z_4, np.sum(z_4))\n",
    "envelope_portfolio_y"
   ]
  },
  {
   "cell_type": "code",
   "execution_count": 7,
   "metadata": {},
   "outputs": [
    {
     "data": {
      "text/plain": [
       "array([[ 0.09372459]])"
      ]
     },
     "execution_count": 7,
     "metadata": {},
     "output_type": "execute_result"
    }
   ],
   "source": [
    "#E(x)\n",
    "E_x = np.dot(envelope_portfolio_x.T, mean_returns)\n",
    "E_x"
   ]
  },
  {
   "cell_type": "code",
   "execution_count": 8,
   "metadata": {},
   "outputs": [
    {
     "data": {
      "text/plain": [
       "array([[ 0.08623994]])"
      ]
     },
     "execution_count": 8,
     "metadata": {},
     "output_type": "execute_result"
    }
   ],
   "source": [
    "#Var(x)\n",
    "var_x = np.dot(np.dot(envelope_portfolio_x.T, var_cov_matrix), envelope_portfolio_x)\n",
    "var_x"
   ]
  },
  {
   "cell_type": "code",
   "execution_count": 9,
   "metadata": {},
   "outputs": [
    {
     "data": {
      "text/plain": [
       "array([[ 0.29366637]])"
      ]
     },
     "execution_count": 9,
     "metadata": {},
     "output_type": "execute_result"
    }
   ],
   "source": [
    "#Sigma(x)\n",
    "sigma_x = np.sqrt(var_x)\n",
    "sigma_x"
   ]
  },
  {
   "cell_type": "code",
   "execution_count": 10,
   "metadata": {},
   "outputs": [
    {
     "data": {
      "text/plain": [
       "array([[ 0.11303669]])"
      ]
     },
     "execution_count": 10,
     "metadata": {},
     "output_type": "execute_result"
    }
   ],
   "source": [
    "#E(y)\n",
    "E_y = np.dot(envelope_portfolio_y.T, mean_returns)\n",
    "E_y"
   ]
  },
  {
   "cell_type": "code",
   "execution_count": 11,
   "metadata": {},
   "outputs": [
    {
     "data": {
      "text/plain": [
       "array([[ 0.14139768]])"
      ]
     },
     "execution_count": 11,
     "metadata": {},
     "output_type": "execute_result"
    }
   ],
   "source": [
    "#Var(y)\n",
    "var_y = np.dot(np.dot(envelope_portfolio_y.T, var_cov_matrix), envelope_portfolio_y)\n",
    "var_y"
   ]
  },
  {
   "cell_type": "code",
   "execution_count": 12,
   "metadata": {},
   "outputs": [
    {
     "data": {
      "text/plain": [
       "array([[ 0.14139768]])"
      ]
     },
     "execution_count": 12,
     "metadata": {},
     "output_type": "execute_result"
    }
   ],
   "source": [
    "#Var(y)\n",
    "var_y = np.dot(np.dot(envelope_portfolio_y.T, var_cov_matrix), envelope_portfolio_y)\n",
    "var_y"
   ]
  },
  {
   "cell_type": "code",
   "execution_count": 13,
   "metadata": {},
   "outputs": [
    {
     "data": {
      "text/plain": [
       "array([[ 0.37602883]])"
      ]
     },
     "execution_count": 13,
     "metadata": {},
     "output_type": "execute_result"
    }
   ],
   "source": [
    "#Sigma(y)\n",
    "sigma_y = np.sqrt(var_y)\n",
    "sigma_y"
   ]
  },
  {
   "cell_type": "code",
   "execution_count": 14,
   "metadata": {},
   "outputs": [
    {
     "data": {
      "text/plain": [
       "array([ 0.10400982])"
      ]
     },
     "execution_count": 14,
     "metadata": {},
     "output_type": "execute_result"
    }
   ],
   "source": [
    "#Cov(x,y)\n",
    "cov_xy = np.dot(np.dot(envelope_portfolio_x.T, var_cov_matrix), envelope_portfolio_y)\n",
    "cov_xy[0]"
   ]
  },
  {
   "cell_type": "code",
   "execution_count": 15,
   "metadata": {},
   "outputs": [
    {
     "data": {
      "text/plain": [
       "array([[ 0.94188733]])"
      ]
     },
     "execution_count": 15,
     "metadata": {},
     "output_type": "execute_result"
    }
   ],
   "source": [
    "#Corr(x,y)\n",
    "np.divide(cov_xy, sigma_x * sigma_y)"
   ]
  },
  {
   "cell_type": "code",
   "execution_count": 16,
   "metadata": {
    "collapsed": true
   },
   "outputs": [],
   "source": [
    "#Proportion of x\n",
    "p_x = 0.3"
   ]
  },
  {
   "cell_type": "code",
   "execution_count": 17,
   "metadata": {},
   "outputs": [
    {
     "data": {
      "text/plain": [
       "array([[ 0.10724306]])"
      ]
     },
     "execution_count": 17,
     "metadata": {},
     "output_type": "execute_result"
    }
   ],
   "source": [
    "#Mean portfolio\n",
    "E_p = p_x * E_x + (1 - p_x) * E_y\n",
    "E_p"
   ]
  },
  {
   "cell_type": "code",
   "execution_count": 18,
   "metadata": {},
   "outputs": [
    {
     "data": {
      "text/plain": [
       "array([[ 0.12073058]])"
      ]
     },
     "execution_count": 18,
     "metadata": {},
     "output_type": "execute_result"
    }
   ],
   "source": [
    "#Variance portfolio\n",
    "var_p = p_x ** 2 * var_x + (1 - p_x) ** 2 * var_y + 2 * p_x * (1 - p_x) * cov_xy\n",
    "var_p"
   ]
  },
  {
   "cell_type": "code",
   "execution_count": 19,
   "metadata": {},
   "outputs": [
    {
     "data": {
      "text/plain": [
       "array([[ 0.34746307]])"
      ]
     },
     "execution_count": 19,
     "metadata": {},
     "output_type": "execute_result"
    }
   ],
   "source": [
    "#Portfolio standard deviation\n",
    "sigma_p = np.sqrt(var_p)\n",
    "sigma_p"
   ]
  },
  {
   "cell_type": "code",
   "execution_count": 20,
   "metadata": {
    "collapsed": true
   },
   "outputs": [],
   "source": [
    "df_p = pd.DataFrame(columns=['Proportion of x', 'Sigma', 'Return'])"
   ]
  },
  {
   "cell_type": "code",
   "execution_count": 21,
   "metadata": {},
   "outputs": [
    {
     "data": {
      "text/html": [
       "<div>\n",
       "<style>\n",
       "    .dataframe thead tr:only-child th {\n",
       "        text-align: right;\n",
       "    }\n",
       "\n",
       "    .dataframe thead th {\n",
       "        text-align: left;\n",
       "    }\n",
       "\n",
       "    .dataframe tbody tr th {\n",
       "        vertical-align: top;\n",
       "    }\n",
       "</style>\n",
       "<table border=\"1\" class=\"dataframe\">\n",
       "  <thead>\n",
       "    <tr style=\"text-align: right;\">\n",
       "      <th></th>\n",
       "      <th>Proportion of x</th>\n",
       "      <th>Sigma</th>\n",
       "      <th>Return</th>\n",
       "    </tr>\n",
       "  </thead>\n",
       "  <tbody>\n",
       "  </tbody>\n",
       "</table>\n",
       "</div>"
      ],
      "text/plain": [
       "Empty DataFrame\n",
       "Columns: [Proportion of x, Sigma, Return]\n",
       "Index: []"
      ]
     },
     "execution_count": 21,
     "metadata": {},
     "output_type": "execute_result"
    }
   ],
   "source": [
    "df_p"
   ]
  },
  {
   "cell_type": "code",
   "execution_count": 22,
   "metadata": {},
   "outputs": [
    {
     "data": {
      "text/html": [
       "<div>\n",
       "<style>\n",
       "    .dataframe thead tr:only-child th {\n",
       "        text-align: right;\n",
       "    }\n",
       "\n",
       "    .dataframe thead th {\n",
       "        text-align: left;\n",
       "    }\n",
       "\n",
       "    .dataframe tbody tr th {\n",
       "        vertical-align: top;\n",
       "    }\n",
       "</style>\n",
       "<table border=\"1\" class=\"dataframe\">\n",
       "  <thead>\n",
       "    <tr style=\"text-align: right;\">\n",
       "      <th></th>\n",
       "      <th>Proportion of x</th>\n",
       "      <th>Sigma</th>\n",
       "      <th>Return</th>\n",
       "    </tr>\n",
       "  </thead>\n",
       "  <tbody>\n",
       "    <tr>\n",
       "      <th>0</th>\n",
       "      <td>-1.50</td>\n",
       "      <td>0.545621</td>\n",
       "      <td>0.142005</td>\n",
       "    </tr>\n",
       "    <tr>\n",
       "      <th>1</th>\n",
       "      <td>-1.20</td>\n",
       "      <td>0.509292</td>\n",
       "      <td>0.136211</td>\n",
       "    </tr>\n",
       "    <tr>\n",
       "      <th>2</th>\n",
       "      <td>-1.00</td>\n",
       "      <td>0.485584</td>\n",
       "      <td>0.132349</td>\n",
       "    </tr>\n",
       "    <tr>\n",
       "      <th>3</th>\n",
       "      <td>-0.80</td>\n",
       "      <td>0.462357</td>\n",
       "      <td>0.128486</td>\n",
       "    </tr>\n",
       "    <tr>\n",
       "      <th>4</th>\n",
       "      <td>-0.60</td>\n",
       "      <td>0.439688</td>\n",
       "      <td>0.124624</td>\n",
       "    </tr>\n",
       "    <tr>\n",
       "      <th>5</th>\n",
       "      <td>-0.40</td>\n",
       "      <td>0.417668</td>\n",
       "      <td>0.120762</td>\n",
       "    </tr>\n",
       "    <tr>\n",
       "      <th>6</th>\n",
       "      <td>-0.20</td>\n",
       "      <td>0.396406</td>\n",
       "      <td>0.116899</td>\n",
       "    </tr>\n",
       "    <tr>\n",
       "      <th>7</th>\n",
       "      <td>0.00</td>\n",
       "      <td>0.376029</td>\n",
       "      <td>0.113037</td>\n",
       "    </tr>\n",
       "    <tr>\n",
       "      <th>8</th>\n",
       "      <td>0.25</td>\n",
       "      <td>0.352037</td>\n",
       "      <td>0.108209</td>\n",
       "    </tr>\n",
       "    <tr>\n",
       "      <th>9</th>\n",
       "      <td>0.50</td>\n",
       "      <td>0.330022</td>\n",
       "      <td>0.103381</td>\n",
       "    </tr>\n",
       "    <tr>\n",
       "      <th>10</th>\n",
       "      <td>0.75</td>\n",
       "      <td>0.310405</td>\n",
       "      <td>0.098553</td>\n",
       "    </tr>\n",
       "    <tr>\n",
       "      <th>11</th>\n",
       "      <td>0.80</td>\n",
       "      <td>0.306810</td>\n",
       "      <td>0.097587</td>\n",
       "    </tr>\n",
       "    <tr>\n",
       "      <th>12</th>\n",
       "      <td>1.00</td>\n",
       "      <td>0.293666</td>\n",
       "      <td>0.093725</td>\n",
       "    </tr>\n",
       "    <tr>\n",
       "      <th>13</th>\n",
       "      <td>1.20</td>\n",
       "      <td>0.282695</td>\n",
       "      <td>0.089862</td>\n",
       "    </tr>\n",
       "    <tr>\n",
       "      <th>14</th>\n",
       "      <td>1.40</td>\n",
       "      <td>0.274159</td>\n",
       "      <td>0.086000</td>\n",
       "    </tr>\n",
       "    <tr>\n",
       "      <th>15</th>\n",
       "      <td>1.60</td>\n",
       "      <td>0.268288</td>\n",
       "      <td>0.082137</td>\n",
       "    </tr>\n",
       "    <tr>\n",
       "      <th>16</th>\n",
       "      <td>1.80</td>\n",
       "      <td>0.265261</td>\n",
       "      <td>0.078275</td>\n",
       "    </tr>\n",
       "    <tr>\n",
       "      <th>17</th>\n",
       "      <td>2.00</td>\n",
       "      <td>0.265176</td>\n",
       "      <td>0.074412</td>\n",
       "    </tr>\n",
       "    <tr>\n",
       "      <th>18</th>\n",
       "      <td>2.20</td>\n",
       "      <td>0.268034</td>\n",
       "      <td>0.070550</td>\n",
       "    </tr>\n",
       "    <tr>\n",
       "      <th>19</th>\n",
       "      <td>2.40</td>\n",
       "      <td>0.273744</td>\n",
       "      <td>0.066688</td>\n",
       "    </tr>\n",
       "    <tr>\n",
       "      <th>20</th>\n",
       "      <td>2.60</td>\n",
       "      <td>0.282132</td>\n",
       "      <td>0.062825</td>\n",
       "    </tr>\n",
       "    <tr>\n",
       "      <th>21</th>\n",
       "      <td>2.80</td>\n",
       "      <td>0.292969</td>\n",
       "      <td>0.058963</td>\n",
       "    </tr>\n",
       "    <tr>\n",
       "      <th>22</th>\n",
       "      <td>3.00</td>\n",
       "      <td>0.305994</td>\n",
       "      <td>0.055100</td>\n",
       "    </tr>\n",
       "  </tbody>\n",
       "</table>\n",
       "</div>"
      ],
      "text/plain": [
       "    Proportion of x     Sigma    Return\n",
       "0             -1.50  0.545621  0.142005\n",
       "1             -1.20  0.509292  0.136211\n",
       "2             -1.00  0.485584  0.132349\n",
       "3             -0.80  0.462357  0.128486\n",
       "4             -0.60  0.439688  0.124624\n",
       "5             -0.40  0.417668  0.120762\n",
       "6             -0.20  0.396406  0.116899\n",
       "7              0.00  0.376029  0.113037\n",
       "8              0.25  0.352037  0.108209\n",
       "9              0.50  0.330022  0.103381\n",
       "10             0.75  0.310405  0.098553\n",
       "11             0.80  0.306810  0.097587\n",
       "12             1.00  0.293666  0.093725\n",
       "13             1.20  0.282695  0.089862\n",
       "14             1.40  0.274159  0.086000\n",
       "15             1.60  0.268288  0.082137\n",
       "16             1.80  0.265261  0.078275\n",
       "17             2.00  0.265176  0.074412\n",
       "18             2.20  0.268034  0.070550\n",
       "19             2.40  0.273744  0.066688\n",
       "20             2.60  0.282132  0.062825\n",
       "21             2.80  0.292969  0.058963\n",
       "22             3.00  0.305994  0.055100"
      ]
     },
     "execution_count": 22,
     "metadata": {},
     "output_type": "execute_result"
    }
   ],
   "source": [
    "df_p = df_p.iloc[0:0]\n",
    "proportions = [-1.5,-1.2,-1.0,-0.8,-0.6,-0.4,-0.2,0.0,0.25,0.5,0.75,0.8,1.0,1.2,1.4,1.6,1.8,2.0,2.2,2.4,2.6,2.8,3.0]\n",
    "for i in proportions:\n",
    "    df_p = df_p.append({'Proportion of x': i}, ignore_index=True)\n",
    "    p = df_p['Proportion of x']\n",
    "    df_p['Return'] = p * E_x[0] + (1 - p) * E_y[0]\n",
    "    df_p['Sigma'] = (p ** 2 * var_x[0] + (1 - p) ** 2 * var_y[0] + 2 * p * (1 - p) * cov_xy[0]).apply(np.sqrt)\n",
    "df_p"
   ]
  },
  {
   "cell_type": "code",
   "execution_count": 23,
   "metadata": {
    "collapsed": true
   },
   "outputs": [],
   "source": [
    "import matplotlib.pyplot as plt"
   ]
  },
  {
   "cell_type": "code",
   "execution_count": 24,
   "metadata": {},
   "outputs": [
    {
     "data": {
      "image/png": "[encoded data removed]",
      "text/plain": [
       "<matplotlib.figure.Figure at 0x10ec5ff28>"
      ]
     },
     "metadata": {},
     "output_type": "display_data"
    }
   ],
   "source": [
    "plt.scatter(df_p['Sigma'], df_p['Return'])\n",
    "plt.plot(df_p['Sigma'], df_p['Return'])\n",
    "plt.plot([0.376029], [0.113037], marker='s', color='r')\n",
    "plt.plot([0.305994], [0.055100], marker='s', color='r')\n",
    "plt.plot([0.293666], [0.093725], marker='s', color='r')\n",
    "plt.xlabel(\"$\\sigma_P$\", color='b', size=20)\n",
    "plt.ylabel(\"$E(r_p)$\", color='b', size=20)\n",
    "plt.show()"
   ]
  },
  {
   "cell_type": "markdown",
   "metadata": {},
   "source": [
    "#### 9.5: Finding Efficient Portfolios in One Step"
   ]
  },
  {
   "cell_type": "code",
   "execution_count": 25,
   "metadata": {},
   "outputs": [
    {
     "data": {
      "text/plain": [
       "array([[ 0.07820602],\n",
       "       [ 0.26839713],\n",
       "       [ 0.22273932],\n",
       "       [ 0.43065752]])"
      ]
     },
     "execution_count": 25,
     "metadata": {},
     "output_type": "execute_result"
    }
   ],
   "source": [
    "envelope_portfolio = np.dot(np.linalg.inv(var_cov_matrix), (mean_returns - constant_c)\n",
    "                           ) / np.sum(np.dot(np.linalg.inv(var_cov_matrix), (mean_returns - constant_c)))\n",
    "envelope_portfolio"
   ]
  },
  {
   "cell_type": "markdown",
   "metadata": {},
   "source": [
    "$$x = \\frac{S^{-1}\\{E(r)-c\\}}{Sum[S^{-1}\\{E(r)-c\\}]}$$"
   ]
  },
  {
   "cell_type": "code",
   "execution_count": 26,
   "metadata": {},
   "outputs": [
    {
     "data": {
      "text/plain": [
       "0.1130366923032104"
      ]
     },
     "execution_count": 26,
     "metadata": {},
     "output_type": "execute_result"
    }
   ],
   "source": [
    "#Portfolio mean\n",
    "sum([x*y for x,y in zip(envelope_portfolio, mean_returns)])[0]"
   ]
  },
  {
   "cell_type": "markdown",
   "metadata": {},
   "source": [
    "#### 9.7: Finding the Market Portfolio: The Capital Market Line (CML)"
   ]
  },
  {
   "cell_type": "code",
   "execution_count": 27,
   "metadata": {
    "collapsed": true
   },
   "outputs": [],
   "source": [
    "var_cov_matrix = np.array([[0.40, 0.03, 0.02, 0.00],\n",
    "                          [0.03, 0.20, 0.001, -0.06],\n",
    "                          [0.02, 0.001, 0.30, 0.03],\n",
    "                          [0.00, -0.06, 0.03, 0.10]])"
   ]
  },
  {
   "cell_type": "code",
   "execution_count": 28,
   "metadata": {
    "collapsed": true
   },
   "outputs": [],
   "source": [
    "constant_c = 0.05"
   ]
  },
  {
   "cell_type": "code",
   "execution_count": 29,
   "metadata": {
    "collapsed": true
   },
   "outputs": [],
   "source": [
    "mean_returns = np.array([[0.06],\n",
    "                        [0.05],\n",
    "                        [0.07],\n",
    "                        [0.08]])"
   ]
  },
  {
   "cell_type": "code",
   "execution_count": 30,
   "metadata": {},
   "outputs": [
    {
     "data": {
      "text/plain": [
       "array([[ 0.01574636],\n",
       "       [ 0.10340388],\n",
       "       [ 0.02996701],\n",
       "       [ 0.35305222]])"
      ]
     },
     "execution_count": 30,
     "metadata": {},
     "output_type": "execute_result"
    }
   ],
   "source": [
    "z = np.dot(np.linalg.inv(var_cov_matrix), (mean_returns - constant_c))\n",
    "z"
   ]
  },
  {
   "cell_type": "code",
   "execution_count": 31,
   "metadata": {},
   "outputs": [
    {
     "data": {
      "text/plain": [
       "array([[ 0.03135666],\n",
       "       [ 0.20591431],\n",
       "       [ 0.05967509],\n",
       "       [ 0.70305394]])"
      ]
     },
     "execution_count": 31,
     "metadata": {},
     "output_type": "execute_result"
    }
   ],
   "source": [
    "envelope_portfolio_x = z / np.sum(z)\n",
    "envelope_portfolio_x"
   ]
  },
  {
   "cell_type": "code",
   "execution_count": 32,
   "metadata": {},
   "outputs": [
    {
     "data": {
      "text/plain": [
       "0.072598686635280102"
      ]
     },
     "execution_count": 32,
     "metadata": {},
     "output_type": "execute_result"
    }
   ],
   "source": [
    "#Portfolio expected return\n",
    "sum([x*y for x,y in zip(envelope_portfolio_x, mean_returns)])[0]"
   ]
  },
  {
   "cell_type": "code",
   "execution_count": 33,
   "metadata": {},
   "outputs": [
    {
     "data": {
      "text/plain": [
       "0.21213701193842574"
      ]
     },
     "execution_count": 33,
     "metadata": {},
     "output_type": "execute_result"
    }
   ],
   "source": [
    "#Portfolio standard deviation\n",
    "np.sqrt(np.dot(np.dot(envelope_portfolio_x.T, var_cov_matrix),envelope_portfolio_x))[0][0]"
   ]
  },
  {
   "cell_type": "markdown",
   "metadata": {},
   "source": [
    "#### 9.8: Testing the SML"
   ]
  },
  {
   "cell_type": "code",
   "execution_count": 34,
   "metadata": {},
   "outputs": [
    {
     "data": {
      "text/html": [
       "<div>\n",
       "<style>\n",
       "    .dataframe thead tr:only-child th {\n",
       "        text-align: right;\n",
       "    }\n",
       "\n",
       "    .dataframe thead th {\n",
       "        text-align: left;\n",
       "    }\n",
       "\n",
       "    .dataframe tbody tr th {\n",
       "        vertical-align: top;\n",
       "    }\n",
       "</style>\n",
       "<table border=\"1\" class=\"dataframe\">\n",
       "  <thead>\n",
       "    <tr style=\"text-align: right;\">\n",
       "      <th></th>\n",
       "      <th>Asset 1</th>\n",
       "      <th>Asset 2</th>\n",
       "      <th>Asset 3</th>\n",
       "      <th>Asset 4</th>\n",
       "    </tr>\n",
       "  </thead>\n",
       "  <tbody>\n",
       "    <tr>\n",
       "      <th>0</th>\n",
       "      <td>-0.066256</td>\n",
       "      <td>-0.024905</td>\n",
       "      <td>-0.042695</td>\n",
       "      <td>0.117200</td>\n",
       "    </tr>\n",
       "    <tr>\n",
       "      <th>1</th>\n",
       "      <td>0.085300</td>\n",
       "      <td>0.024400</td>\n",
       "      <td>-0.031544</td>\n",
       "      <td>-0.083300</td>\n",
       "    </tr>\n",
       "    <tr>\n",
       "      <th>2</th>\n",
       "      <td>0.017937</td>\n",
       "      <td>0.044607</td>\n",
       "      <td>0.019195</td>\n",
       "      <td>0.191804</td>\n",
       "    </tr>\n",
       "    <tr>\n",
       "      <th>3</th>\n",
       "      <td>0.072484</td>\n",
       "      <td>0.178964</td>\n",
       "      <td>-0.065257</td>\n",
       "      <td>-0.074061</td>\n",
       "    </tr>\n",
       "    <tr>\n",
       "      <th>4</th>\n",
       "      <td>0.007545</td>\n",
       "      <td>-0.082230</td>\n",
       "      <td>-0.017571</td>\n",
       "      <td>-0.014436</td>\n",
       "    </tr>\n",
       "    <tr>\n",
       "      <th>5</th>\n",
       "      <td>-0.015696</td>\n",
       "      <td>0.008319</td>\n",
       "      <td>0.128800</td>\n",
       "      <td>-0.059221</td>\n",
       "    </tr>\n",
       "    <tr>\n",
       "      <th>6</th>\n",
       "      <td>-0.020985</td>\n",
       "      <td>0.051431</td>\n",
       "      <td>0.134068</td>\n",
       "      <td>-0.004569</td>\n",
       "    </tr>\n",
       "  </tbody>\n",
       "</table>\n",
       "</div>"
      ],
      "text/plain": [
       "    Asset 1   Asset 2   Asset 3   Asset 4\n",
       "0 -0.066256 -0.024905 -0.042695  0.117200\n",
       "1  0.085300  0.024400 -0.031544 -0.083300\n",
       "2  0.017937  0.044607  0.019195  0.191804\n",
       "3  0.072484  0.178964 -0.065257 -0.074061\n",
       "4  0.007545 -0.082230 -0.017571 -0.014436\n",
       "5 -0.015696  0.008319  0.128800 -0.059221\n",
       "6 -0.020985  0.051431  0.134068 -0.004569"
      ]
     },
     "execution_count": 34,
     "metadata": {},
     "output_type": "execute_result"
    }
   ],
   "source": [
    "assets = pd.read_csv('pages_241_assets.csv', usecols=[1,2,3,4])\n",
    "assets"
   ]
  },
  {
   "cell_type": "code",
   "execution_count": 35,
   "metadata": {},
   "outputs": [
    {
     "data": {
      "text/plain": [
       "array([ 0.01147571,  0.0286553 ,  0.01785648,  0.01048809])"
      ]
     },
     "execution_count": 35,
     "metadata": {},
     "output_type": "execute_result"
    }
   ],
   "source": [
    "mean_assets = np.array(assets.mean())\n",
    "mean_assets"
   ]
  },
  {
   "cell_type": "code",
   "execution_count": 36,
   "metadata": {},
   "outputs": [
    {
     "data": {
      "text/plain": [
       "array([[ 0.00243764,  0.00191021, -0.0015214 , -0.00238922],\n",
       "       [ 0.00191021,  0.00556599, -0.00067128, -0.00161348],\n",
       "       [-0.0015214 , -0.00067128,  0.00572645, -0.00045129],\n",
       "       [-0.00238922, -0.00161348, -0.00045129,  0.00941642]])"
      ]
     },
     "execution_count": 36,
     "metadata": {},
     "output_type": "execute_result"
    }
   ],
   "source": [
    "#Variance-covariance matrix\n",
    "var_cov_matrix = (np.dot((assets - mean_assets).T, (assets - mean_assets))) / 7\n",
    "var_cov_matrix"
   ]
  },
  {
   "cell_type": "code",
   "execution_count": 37,
   "metadata": {
    "collapsed": true
   },
   "outputs": [],
   "source": [
    "constant = 0.005"
   ]
  },
  {
   "cell_type": "code",
   "execution_count": 38,
   "metadata": {},
   "outputs": [
    {
     "data": {
      "text/plain": [
       "array([ 0.31285941,  0.24641149,  0.2689937 ,  0.1717354 ])"
      ]
     },
     "execution_count": 38,
     "metadata": {},
     "output_type": "execute_result"
    }
   ],
   "source": [
    "#Finding an efficient portfolio w\n",
    "w = np.divide(np.dot(np.linalg.inv(var_cov_matrix), (mean_assets.T - constant)),\n",
    "              np.sum(np.dot(np.linalg.inv(var_cov_matrix), (mean_assets.T - constant))))\n",
    "w"
   ]
  },
  {
   "cell_type": "code",
   "execution_count": 39,
   "metadata": {},
   "outputs": [
    {
     "name": "stderr",
     "output_type": "stream",
     "text": [
      "/Users/danieltoma/anaconda3/lib/python3.6/site-packages/statsmodels/compat/pandas.py:56: FutureWarning: The pandas.core.datetools module is deprecated and will be removed in a future version. Please use the pandas.tseries module instead.\n",
      "  from pandas.core import datetools\n"
     ]
    }
   ],
   "source": [
    "import statsmodels.api as sm"
   ]
  },
  {
   "cell_type": "code",
   "execution_count": 40,
   "metadata": {},
   "outputs": [
    {
     "data": {
      "text/plain": [
       "array([-0.01822283,  0.00990875,  0.05470626,  0.03650351, -0.02510749,\n",
       "        0.02161523,  0.04138671])"
      ]
     },
     "execution_count": 40,
     "metadata": {},
     "output_type": "execute_result"
    }
   ],
   "source": [
    "#Efficient portfolio w\n",
    "efficient_portfolio_w = np.dot(assets, w)\n",
    "efficient_portfolio_w"
   ]
  },
  {
   "cell_type": "code",
   "execution_count": 41,
   "metadata": {
    "collapsed": true
   },
   "outputs": [],
   "source": [
    "#Implementing propositions 3-5—finding the SML\n",
    "#Step 1:  Regress each asset's returns on those of the efficient portfolio w\n",
    "#Slope of the 4 assets\n",
    "beta = []\n",
    "alpha = []\n",
    "X = efficient_portfolio_w\n",
    "for column in assets:\n",
    "    Y = assets[column].values\n",
    "    alpha.append(((Y.mean() * (X ** 2).mean()) - X.mean() * (X * Y).mean()) / ((X ** 2).mean() - (X.mean()) ** 2))\n",
    "    beta.append(((X * Y).mean() - X.mean() * Y.mean()) / ((X ** 2).mean() - (X.mean()) ** 2))"
   ]
  },
  {
   "cell_type": "code",
   "execution_count": 42,
   "metadata": {},
   "outputs": [
    {
     "data": {
      "text/plain": [
       "[0.52838188383644935,\n",
       " 1.9301411170832004,\n",
       " 1.0490174707876607,\n",
       " 0.44779772929307649]"
      ]
     },
     "execution_count": 42,
     "metadata": {},
     "output_type": "execute_result"
    }
   ],
   "source": [
    "beta"
   ]
  },
  {
   "cell_type": "code",
   "execution_count": 43,
   "metadata": {},
   "outputs": [
    {
     "data": {
      "text/plain": [
       "[0.0023580905808177487,\n",
       " -0.0046507055854160097,\n",
       " -0.00024508735393830353,\n",
       " 0.0027610113535346181]"
      ]
     },
     "execution_count": 43,
     "metadata": {},
     "output_type": "execute_result"
    }
   ],
   "source": [
    "alpha"
   ]
  },
  {
   "cell_type": "code",
   "execution_count": 44,
   "metadata": {},
   "outputs": [
    {
     "data": {
      "text/plain": [
       "LinregressResult(slope=0.012255736235658746, intercept=0.005000000000000001, rvalue=1.0, pvalue=9.9999999999999979e-21, stderr=0.0)"
      ]
     },
     "execution_count": 44,
     "metadata": {},
     "output_type": "execute_result"
    }
   ],
   "source": [
    "#Step 2: Regress the asset mean returns on their betas\n",
    "m = mean_assets\n",
    "b = np.array(beta)\n",
    "from scipy.stats import linregress\n",
    "linregress(b, m)"
   ]
  },
  {
   "cell_type": "code",
   "execution_count": 45,
   "metadata": {},
   "outputs": [
    {
     "data": {
      "text/plain": [
       "0.0050000000000000062"
      ]
     },
     "execution_count": 45,
     "metadata": {},
     "output_type": "execute_result"
    }
   ],
   "source": [
    "#manually intercept\n",
    "intercept = (m.mean() * (b ** 2).mean() - b.mean() * (b * m).mean()) / ((b ** 2).mean() - b.mean() ** 2)\n",
    "intercept"
   ]
  },
  {
   "cell_type": "code",
   "execution_count": 46,
   "metadata": {},
   "outputs": [
    {
     "data": {
      "text/plain": [
       "0.012255736235658746"
      ]
     },
     "execution_count": 46,
     "metadata": {},
     "output_type": "execute_result"
    }
   ],
   "source": [
    "#manually slope\n",
    "slope = ((b * m).mean() - b.mean() * m.mean()) / ((b ** 2).mean() - b.mean() ** 2)\n",
    "slope"
   ]
  },
  {
   "cell_type": "code",
   "execution_count": 47,
   "metadata": {},
   "outputs": [
    {
     "data": {
      "text/plain": [
       "1.0"
      ]
     },
     "execution_count": 47,
     "metadata": {},
     "output_type": "execute_result"
    }
   ],
   "source": [
    "#R-squared\n",
    "linregress(b, m).rvalue ** 2"
   ]
  },
  {
   "cell_type": "code",
   "execution_count": null,
   "metadata": {
    "collapsed": true
   },
   "outputs": [],
   "source": []
  }
 ],
 "metadata": {
  "kernelspec": {
   "display_name": "Python 3",
   "language": "python",
   "name": "python3"
  },
  "language_info": {
   "codemirror_mode": {
    "name": "ipython",
    "version": 3
   },
   "file_extension": ".py",
   "mimetype": "text/x-python",
   "name": "python",
   "nbconvert_exporter": "python",
   "pygments_lexer": "ipython3",
   "version": "3.6.3"
  }
 },
 "nbformat": 4,
 "nbformat_minor": 2
}
